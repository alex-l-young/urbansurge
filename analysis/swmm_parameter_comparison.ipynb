{
 "cells": [
  {
   "cell_type": "code",
   "execution_count": 3,
   "id": "cf93a7f0",
   "metadata": {},
   "outputs": [],
   "source": [
    "# Library imports.\n",
    "from pyswmm import Simulation, Links, Output\n",
    "from swmm.toolkit.shared_enum import LinkAttribute, NodeAttribute\n",
    "from pathlib import Path\n",
    "import matplotlib.pyplot as plt\n",
    "import matplotlib.dates as mdates\n",
    "import pandas as pd\n",
    "\n",
    "# Local imports.\n",
    "from urbansurge.file_utils import set_inp_section, add_prcp_timeseries, set_raingage"
   ]
  },
  {
   "cell_type": "code",
   "execution_count": 4,
   "id": "0982577c",
   "metadata": {},
   "outputs": [],
   "source": [
    "# Path to the SWMM inp file.\n",
    "swmm_dir = Path(r\"C:\\Users\\ay434\\Box\\Research\\Digital_Twin_Interpretable_AI\\SWMM\\SWMM_Files\\SWMM\")\n",
    "inp_name = \"Canandaigua_Orig - Copy.inp\"\n",
    "out_name = \"Canandaigua_Orig - Copy.out\"\n",
    "\n",
    "swmm_path = str(swmm_dir / inp_name)\n",
    "swmm_out_path = str(swmm_dir / out_name)"
   ]
  },
  {
   "cell_type": "code",
   "execution_count": 5,
   "id": "e7d5ee36",
   "metadata": {},
   "outputs": [],
   "source": [
    "def unpack_series(series):\n",
    "    \"Unpacks SWMM output series into datetime and values.\"\n",
    "    dts = [key for key in series.keys()]\n",
    "    values = [val for val in series.values()]\n",
    "    \n",
    "    return dts, values"
   ]
  },
  {
   "cell_type": "code",
   "execution_count": 9,
   "id": "aadc54ac",
   "metadata": {},
   "outputs": [
    {
     "name": "stdout",
     "output_type": "stream",
     "text": [
      "Updated Roughness value to 0.01 for 3 in 3\n",
      "2017-01-01 00:00:30 , 0\n",
      "2017-01-01 00:50:30 , 4\n",
      "2017-01-01 01:40:30 , 7\n",
      "2017-01-01 02:30:30 , 10\n",
      "2017-01-01 03:20:30 , 14\n",
      "2017-01-01 04:10:30 , 17\n",
      "2017-01-01 05:00:30 , 21\n",
      "2017-01-01 05:50:30 , 24\n",
      "2017-01-01 06:40:30 , 28\n",
      "2017-01-01 07:30:30 , 31\n",
      "2017-01-01 08:20:30 , 35\n",
      "2017-01-01 09:10:30 , 38\n",
      "2017-01-01 10:00:30 , 42\n",
      "2017-01-01 10:50:30 , 45\n",
      "2017-01-01 11:40:30 , 49\n",
      "2017-01-01 12:30:30 , 52\n",
      "2017-01-01 13:20:30 , 56\n",
      "2017-01-01 14:10:30 , 59\n",
      "2017-01-01 15:00:30 , 63\n",
      "2017-01-01 15:50:30 , 66\n",
      "2017-01-01 16:40:30 , 69\n",
      "2017-01-01 17:30:30 , 73\n",
      "2017-01-01 18:20:30 , 76\n",
      "2017-01-01 19:10:30 , 80\n",
      "2017-01-01 20:00:30 , 83\n",
      "2017-01-01 20:50:30 , 87\n",
      "2017-01-01 21:40:30 , 90\n",
      "2017-01-01 22:30:30 , 94\n",
      "2017-01-01 23:20:30 , 97\n",
      "Updated Roughness value to 0.03 for 3 in 3\n",
      "2017-01-01 00:00:30 , 0\n",
      "2017-01-01 00:50:30 , 4\n",
      "2017-01-01 01:40:30 , 7\n",
      "2017-01-01 02:30:30 , 10\n",
      "2017-01-01 03:20:30 , 14\n",
      "2017-01-01 04:10:30 , 17\n",
      "2017-01-01 05:00:30 , 21\n",
      "2017-01-01 05:50:30 , 24\n",
      "2017-01-01 06:40:30 , 28\n",
      "2017-01-01 07:30:30 , 31\n",
      "2017-01-01 08:20:30 , 35\n",
      "2017-01-01 09:10:30 , 38\n",
      "2017-01-01 10:00:30 , 42\n",
      "2017-01-01 10:50:30 , 45\n",
      "2017-01-01 11:40:30 , 49\n",
      "2017-01-01 12:30:30 , 52\n",
      "2017-01-01 13:20:30 , 56\n",
      "2017-01-01 14:10:30 , 59\n",
      "2017-01-01 15:00:30 , 63\n",
      "2017-01-01 15:50:30 , 66\n",
      "2017-01-01 16:40:30 , 69\n",
      "2017-01-01 17:30:30 , 73\n",
      "2017-01-01 18:20:30 , 76\n",
      "2017-01-01 19:10:30 , 80\n",
      "2017-01-01 20:00:30 , 83\n",
      "2017-01-01 20:50:30 , 87\n",
      "2017-01-01 21:40:30 , 90\n",
      "2017-01-01 22:30:30 , 94\n",
      "2017-01-01 23:20:30 , 97\n",
      "96\n"
     ]
    }
   ],
   "source": [
    "# Roughness values for a given component.\n",
    "roughness_vals = [0.01, 0.03]\n",
    "\n",
    "# Data from outfall.\n",
    "outfall_data = {}\n",
    "\n",
    "# Loop through roughness values and run model. Collect output flow at outfall.\n",
    "for i, rough_val in enumerate(roughness_vals):\n",
    "\n",
    "    # SWMM simulation.\n",
    "    with Simulation(swmm_path) as sim:\n",
    "        # Edit link parameters.\n",
    "        # -----------------------------------\n",
    "        section = 'CONDUITS'\n",
    "\n",
    "        # Edit 1.\n",
    "        column_name = 'Roughness'\n",
    "        component_name = 3\n",
    "        new_value = rough_val\n",
    "        set_inp_section(swmm_path, section, column_name, component_name, new_value)\n",
    "\n",
    "        # -----------------------------------\n",
    "\n",
    "        # Edit precipitation timeseries.\n",
    "        # -----------------------------------    \n",
    "        # Edit 1.\n",
    "        ts_name = 'TS_TEST'\n",
    "        ts_description = 'TS_TEST_DESC'\n",
    "        times = [0, 1, 2, 3, 4, 5, 6]\n",
    "        values = [0, 1, 0.8, 0.6, 0.4, 0.2, 0.0]\n",
    "        add_prcp_timeseries(swmm_path, ts_name, ts_description, times, values, overwrite=True)\n",
    "\n",
    "        # Set new timeseries to rain gauge.\n",
    "        section = 'RAINGAGES'\n",
    "        rg_ts_name = f'TIMESERIES {ts_name}'\n",
    "        component_name = 1\n",
    "        column_name = 'Source'\n",
    "        set_raingage(swmm_path, column_name, component_name, rg_ts_name)\n",
    "\n",
    "        # -----------------------------------\n",
    "\n",
    "        # Run the model.\n",
    "        for ind, step in enumerate(sim):\n",
    "            if ind % 100 == 0:\n",
    "                print(sim.current_time, \",\", round(sim.percent_complete * 100))\n",
    "                \n",
    "    # Collect output.\n",
    "    # -----------------------------------\n",
    "    with Output(swmm_out_path) as out:\n",
    "        node_dt, node_series = unpack_series(out.node_series('17', NodeAttribute.INVERT_DEPTH))\n",
    "\n",
    "    outfall_data[f'outfall_depth_{rough_val}'] = node_series\n",
    "    outfall_data['datetime'] = node_dt\n"
   ]
  },
  {
   "cell_type": "code",
   "execution_count": 8,
   "id": "64f4c54b",
   "metadata": {},
   "outputs": [
    {
     "ename": "KeyError",
     "evalue": "'depth_0.01'",
     "output_type": "error",
     "traceback": [
      "\u001b[1;31m---------------------------------------------------------------------------\u001b[0m",
      "\u001b[1;31mKeyError\u001b[0m                                  Traceback (most recent call last)",
      "File \u001b[1;32mc:\\users\\ay434\\desktop\\python\\urbansurge-env\\lib\\site-packages\\pandas\\core\\indexes\\base.py:3652\u001b[0m, in \u001b[0;36mIndex.get_loc\u001b[1;34m(self, key)\u001b[0m\n\u001b[0;32m   3651\u001b[0m \u001b[38;5;28;01mtry\u001b[39;00m:\n\u001b[1;32m-> 3652\u001b[0m     \u001b[38;5;28;01mreturn\u001b[39;00m \u001b[38;5;28;43mself\u001b[39;49m\u001b[38;5;241;43m.\u001b[39;49m\u001b[43m_engine\u001b[49m\u001b[38;5;241;43m.\u001b[39;49m\u001b[43mget_loc\u001b[49m\u001b[43m(\u001b[49m\u001b[43mcasted_key\u001b[49m\u001b[43m)\u001b[49m\n\u001b[0;32m   3653\u001b[0m \u001b[38;5;28;01mexcept\u001b[39;00m \u001b[38;5;167;01mKeyError\u001b[39;00m \u001b[38;5;28;01mas\u001b[39;00m err:\n",
      "File \u001b[1;32mc:\\users\\ay434\\desktop\\python\\urbansurge-env\\lib\\site-packages\\pandas\\_libs\\index.pyx:147\u001b[0m, in \u001b[0;36mpandas._libs.index.IndexEngine.get_loc\u001b[1;34m()\u001b[0m\n",
      "File \u001b[1;32mc:\\users\\ay434\\desktop\\python\\urbansurge-env\\lib\\site-packages\\pandas\\_libs\\index.pyx:176\u001b[0m, in \u001b[0;36mpandas._libs.index.IndexEngine.get_loc\u001b[1;34m()\u001b[0m\n",
      "File \u001b[1;32mpandas\\_libs\\hashtable_class_helper.pxi:7080\u001b[0m, in \u001b[0;36mpandas._libs.hashtable.PyObjectHashTable.get_item\u001b[1;34m()\u001b[0m\n",
      "File \u001b[1;32mpandas\\_libs\\hashtable_class_helper.pxi:7088\u001b[0m, in \u001b[0;36mpandas._libs.hashtable.PyObjectHashTable.get_item\u001b[1;34m()\u001b[0m\n",
      "\u001b[1;31mKeyError\u001b[0m: 'depth_0.01'",
      "\nThe above exception was the direct cause of the following exception:\n",
      "\u001b[1;31mKeyError\u001b[0m                                  Traceback (most recent call last)",
      "Cell \u001b[1;32mIn[8], line 6\u001b[0m\n\u001b[0;32m      3\u001b[0m outfall_df\n\u001b[0;32m      5\u001b[0m fig, ax \u001b[38;5;241m=\u001b[39m plt\u001b[38;5;241m.\u001b[39msubplots()\n\u001b[1;32m----> 6\u001b[0m ax\u001b[38;5;241m.\u001b[39mplot(outfall_df[\u001b[38;5;124m'\u001b[39m\u001b[38;5;124mdatetime\u001b[39m\u001b[38;5;124m'\u001b[39m], \u001b[43moutfall_df\u001b[49m\u001b[43m[\u001b[49m\u001b[38;5;124;43m'\u001b[39;49m\u001b[38;5;124;43mdepth_0.01\u001b[39;49m\u001b[38;5;124;43m'\u001b[39;49m\u001b[43m]\u001b[49m)\n\u001b[0;32m      7\u001b[0m ax\u001b[38;5;241m.\u001b[39mplot(outfall_df[\u001b[38;5;124m'\u001b[39m\u001b[38;5;124mdatetime\u001b[39m\u001b[38;5;124m'\u001b[39m], outfall_df[\u001b[38;5;124m'\u001b[39m\u001b[38;5;124mdepth_0.03\u001b[39m\u001b[38;5;124m'\u001b[39m])\n\u001b[0;32m      9\u001b[0m plt\u001b[38;5;241m.\u001b[39mshow()\n",
      "File \u001b[1;32mc:\\users\\ay434\\desktop\\python\\urbansurge-env\\lib\\site-packages\\pandas\\core\\frame.py:3760\u001b[0m, in \u001b[0;36mDataFrame.__getitem__\u001b[1;34m(self, key)\u001b[0m\n\u001b[0;32m   3758\u001b[0m \u001b[38;5;28;01mif\u001b[39;00m \u001b[38;5;28mself\u001b[39m\u001b[38;5;241m.\u001b[39mcolumns\u001b[38;5;241m.\u001b[39mnlevels \u001b[38;5;241m>\u001b[39m \u001b[38;5;241m1\u001b[39m:\n\u001b[0;32m   3759\u001b[0m     \u001b[38;5;28;01mreturn\u001b[39;00m \u001b[38;5;28mself\u001b[39m\u001b[38;5;241m.\u001b[39m_getitem_multilevel(key)\n\u001b[1;32m-> 3760\u001b[0m indexer \u001b[38;5;241m=\u001b[39m \u001b[38;5;28;43mself\u001b[39;49m\u001b[38;5;241;43m.\u001b[39;49m\u001b[43mcolumns\u001b[49m\u001b[38;5;241;43m.\u001b[39;49m\u001b[43mget_loc\u001b[49m\u001b[43m(\u001b[49m\u001b[43mkey\u001b[49m\u001b[43m)\u001b[49m\n\u001b[0;32m   3761\u001b[0m \u001b[38;5;28;01mif\u001b[39;00m is_integer(indexer):\n\u001b[0;32m   3762\u001b[0m     indexer \u001b[38;5;241m=\u001b[39m [indexer]\n",
      "File \u001b[1;32mc:\\users\\ay434\\desktop\\python\\urbansurge-env\\lib\\site-packages\\pandas\\core\\indexes\\base.py:3654\u001b[0m, in \u001b[0;36mIndex.get_loc\u001b[1;34m(self, key)\u001b[0m\n\u001b[0;32m   3652\u001b[0m     \u001b[38;5;28;01mreturn\u001b[39;00m \u001b[38;5;28mself\u001b[39m\u001b[38;5;241m.\u001b[39m_engine\u001b[38;5;241m.\u001b[39mget_loc(casted_key)\n\u001b[0;32m   3653\u001b[0m \u001b[38;5;28;01mexcept\u001b[39;00m \u001b[38;5;167;01mKeyError\u001b[39;00m \u001b[38;5;28;01mas\u001b[39;00m err:\n\u001b[1;32m-> 3654\u001b[0m     \u001b[38;5;28;01mraise\u001b[39;00m \u001b[38;5;167;01mKeyError\u001b[39;00m(key) \u001b[38;5;28;01mfrom\u001b[39;00m \u001b[38;5;21;01merr\u001b[39;00m\n\u001b[0;32m   3655\u001b[0m \u001b[38;5;28;01mexcept\u001b[39;00m \u001b[38;5;167;01mTypeError\u001b[39;00m:\n\u001b[0;32m   3656\u001b[0m     \u001b[38;5;66;03m# If we have a listlike key, _check_indexing_error will raise\u001b[39;00m\n\u001b[0;32m   3657\u001b[0m     \u001b[38;5;66;03m#  InvalidIndexError. Otherwise we fall through and re-raise\u001b[39;00m\n\u001b[0;32m   3658\u001b[0m     \u001b[38;5;66;03m#  the TypeError.\u001b[39;00m\n\u001b[0;32m   3659\u001b[0m     \u001b[38;5;28mself\u001b[39m\u001b[38;5;241m.\u001b[39m_check_indexing_error(key)\n",
      "\u001b[1;31mKeyError\u001b[0m: 'depth_0.01'"
     ]
    },
    {
     "data": {
      "image/png": "[encoded data removed]",
      "text/plain": [
       "<Figure size 640x480 with 1 Axes>"
      ]
     },
     "metadata": {},
     "output_type": "display_data"
    }
   ],
   "source": [
    "# Make a data frame from the output data.\n",
    "outfall_df = pd.DataFrame(outfall_data)\n",
    "outfall_df\n",
    "\n",
    "fig, ax = plt.subplots()\n",
    "ax.plot(outfall_df['datetime'], outfall_df['depth_0.01'])\n",
    "ax.plot(outfall_df['datetime'], outfall_df['depth_0.03'])\n",
    "\n",
    "plt.show()"
   ]
  },
  {
   "cell_type": "code",
   "execution_count": null,
   "id": "45c85fe9",
   "metadata": {},
   "outputs": [],
   "source": []
  }
 ],
 "metadata": {
  "kernelspec": {
   "display_name": "urbansurge-env",
   "language": "python",
   "name": "urbansurge-env"
  },
  "language_info": {
   "codemirror_mode": {
    "name": "ipython",
    "version": 3
   },
   "file_extension": ".py",
   "mimetype": "text/x-python",
   "name": "python",
   "nbconvert_exporter": "python",
   "pygments_lexer": "ipython3",
   "version": "3.9.5"
  }
 },
 "nbformat": 4,
 "nbformat_minor": 5
}
