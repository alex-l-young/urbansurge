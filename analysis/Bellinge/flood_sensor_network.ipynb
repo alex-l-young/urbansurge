{
 "cells": [
  {
   "cell_type": "markdown",
   "metadata": {},
   "source": [
    "# Design flood sensor network for Bellinge network"
   ]
  },
  {
   "cell_type": "code",
   "execution_count": null,
   "metadata": {},
   "outputs": [],
   "source": [
    "# Library imports.\n",
    "import matplotlib.pyplot as plt\n",
    "\n",
    "# UrbanSurge imports.\n",
    "from urbansurge import sensor_network\n",
    "from urbansurge import swmm_model"
   ]
  },
  {
   "cell_type": "markdown",
   "metadata": {},
   "source": [
    "## Model configurations"
   ]
  },
  {
   "cell_type": "code",
   "execution_count": null,
   "metadata": {},
   "outputs": [],
   "source": [
    "# Path to swmm model.\n",
    "inp_path = r\"/Users/alexyoung/Desktop/Cornell/Research/urbansurge/analysis/Bellinge/7_SWMM/BellingeSWMM_v021_nopervious.inp\"\n",
    "inp_path = r\"/Users/alexyoung/Desktop/Cornell/Research/urbansurge/analysis/lab_system/lab_system.inp\""
   ]
  },
  {
   "cell_type": "markdown",
   "metadata": {},
   "source": [
    "## Adjacency matrix"
   ]
  },
  {
   "cell_type": "code",
   "execution_count": null,
   "metadata": {},
   "outputs": [],
   "source": [
    "# Link-nodes dictionary.\n",
    "link_nodes_dict = sensor_network.link_nodes(inp_path)\n",
    "\n",
    "# Adjacency matrix.\n",
    "A, node_names = sensor_network.adjacency_matrix(link_nodes_dict, inp_path)"
   ]
  },
  {
   "cell_type": "markdown",
   "metadata": {},
   "source": [
    "## Node invert and surcharge elevations"
   ]
  },
  {
   "cell_type": "code",
   "execution_count": null,
   "metadata": {},
   "outputs": [],
   "source": [
    "swmm_cfg = r'/Users/alexyoung/Desktop/Cornell/Research/urbansurge/analysis/lab_system/lab_system_config.yml'\n",
    "swmm = swmm_model.SWMM(swmm_cfg)\n"
   ]
  },
  {
   "cell_type": "code",
   "execution_count": null,
   "metadata": {},
   "outputs": [],
   "source": []
  }
 ],
 "metadata": {
  "kernelspec": {
   "display_name": "urbansurge-env",
   "language": "python",
   "name": "python3"
  },
  "language_info": {
   "codemirror_mode": {
    "name": "ipython",
    "version": 3
   },
   "file_extension": ".py",
   "mimetype": "text/x-python",
   "name": "python",
   "nbconvert_exporter": "python",
   "pygments_lexer": "ipython3",
   "version": "3.8.4"
  }
 },
 "nbformat": 4,
 "nbformat_minor": 2
}
