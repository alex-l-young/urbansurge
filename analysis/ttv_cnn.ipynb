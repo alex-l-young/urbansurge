{
 "cells": [
  {
   "cell_type": "code",
   "execution_count": 20,
   "id": "b41f3138",
   "metadata": {},
   "outputs": [],
   "source": [
    "# Library imports.\n",
    "import torch\n",
    "import torch.optim as optim\n",
    "from torch.utils.data import DataLoader, TensorDataset, random_split\n",
    "import pandas as pd\n",
    "import numpy as np\n",
    "import matplotlib.pyplot as plt\n",
    "\n",
    "# Local imports.\n",
    "from urbansurge.fault_diagnosis import cnn_fault_diagnosis"
   ]
  },
  {
   "cell_type": "code",
   "execution_count": 21,
   "id": "a2e498e5",
   "metadata": {},
   "outputs": [
    {
     "name": "stdout",
     "output_type": "stream",
     "text": [
      "(95904, 14)\n"
     ]
    }
   ],
   "source": [
    "# Create images and output from the random_fault_db.\n",
    "fault_db_path = r\"C:\\Users\\ay434\\Box\\Research\\NSF_SCC\\SWMM\\Canandaigua\\Output\\random_fault_db_1000.csv\"\n",
    "fault_db = pd.read_csv(fault_db_path)\n",
    "# Drop rows with all zeros.\n",
    "fault_db = fault_db.loc[(fault_db!=0).any(axis=1)]\n",
    "print(fault_db.shape)\n",
    "\n",
    "# Group by experiment.\n",
    "fault_db_group = fault_db.groupby(by='Experiment')\n",
    "# print(fault_db.head())\n",
    "ngroup = fault_db_group.ngroups\n",
    "\n",
    "X = np.zeros((ngroup, 1, 7, 96))\n",
    "y = np.zeros((ngroup, 5))\n",
    "image_cols = ['prcp', '15_depth', '16_depth', '17_depth', '18_depth', '19_depth', '20_depth']\n",
    "fault_cols = ['L1_diam', 'L2_diam', 'L3_diam', 'L4_diam', 'L5_diam']\n",
    "norm_vals = np.zeros((7, 1))\n",
    "norm_vals[:,0] = np.array([2, 6, 6, 6, 6, 6, 6])\n",
    "i = 0\n",
    "for name, group in fault_db_group:\n",
    "    # Reset group index.\n",
    "    fault_group = group.reset_index(drop=True)\n",
    "    \n",
    "    # Create image array.\n",
    "    img_array = np.transpose(fault_group[image_cols].to_numpy())\n",
    "    \n",
    "    # Normalize rows.\n",
    "    img_array = img_array / norm_vals\n",
    "    \n",
    "    # Add to X.\n",
    "    X[i, :, :, :] = img_array\n",
    "    \n",
    "    # Extract the fault columns.\n",
    "    fault_array = fault_group.loc[0, fault_cols].to_numpy()\n",
    "    fault_array = (fault_array - 3) / (5 - 3)\n",
    "    \n",
    "    # Add to y.\n",
    "    y[i, :] = fault_array\n",
    "    \n",
    "    # Update counter.\n",
    "    i += 1"
   ]
  },
  {
   "cell_type": "code",
   "execution_count": 22,
   "id": "4f19c41a",
   "metadata": {},
   "outputs": [
    {
     "name": "stdout",
     "output_type": "stream",
     "text": [
      "Epoch 1/20, Validation Loss: 0.09003403037786484\n",
      "Epoch 2/20, Validation Loss: 0.08676506727933883\n",
      "Epoch 3/20, Validation Loss: 0.08593622148036957\n",
      "Epoch 4/20, Validation Loss: 0.08489104807376861\n",
      "Epoch 5/20, Validation Loss: 0.08392087370157242\n",
      "Epoch 6/20, Validation Loss: 0.08101464956998825\n",
      "Epoch 7/20, Validation Loss: 0.07789727300405502\n",
      "Epoch 8/20, Validation Loss: 0.07038082927465439\n",
      "Epoch 9/20, Validation Loss: 0.06617397516965866\n",
      "Epoch 10/20, Validation Loss: 0.06467188969254493\n",
      "Epoch 11/20, Validation Loss: 0.05645314007997513\n",
      "Epoch 12/20, Validation Loss: 0.054270417988300325\n",
      "Epoch 13/20, Validation Loss: 0.04832466989755631\n",
      "Epoch 14/20, Validation Loss: 0.04020437709987164\n",
      "Epoch 15/20, Validation Loss: 0.03414195403456688\n",
      "Epoch 16/20, Validation Loss: 0.03152821771800518\n",
      "Epoch 17/20, Validation Loss: 0.026430536434054373\n",
      "Epoch 18/20, Validation Loss: 0.02648412957787514\n",
      "Epoch 19/20, Validation Loss: 0.025970986858010293\n",
      "Epoch 20/20, Validation Loss: 0.026760349050164223\n",
      "Test Loss: 0.023783803358674048\n"
     ]
    }
   ],
   "source": [
    "# Convert your data into PyTorch tensors\n",
    "X_tensor = torch.from_numpy(X).float()\n",
    "y_tensor = torch.from_numpy(y).float()\n",
    "\n",
    "# Create a dataset from your tensors\n",
    "dataset = TensorDataset(X_tensor, y_tensor)\n",
    "\n",
    "# Split dataset into train, validation, and test sets\n",
    "train_size = int(0.7 * len(dataset))\n",
    "val_size = int(0.15 * len(dataset))\n",
    "test_size = len(dataset) - train_size - val_size\n",
    "\n",
    "train_dataset, val_dataset, test_dataset = random_split(dataset, [train_size, val_size, test_size])\n",
    "\n",
    "# Create data loaders\n",
    "train_loader = DataLoader(train_dataset, batch_size=32, shuffle=True)\n",
    "val_loader = DataLoader(val_dataset, batch_size=32, shuffle=False)\n",
    "test_loader = DataLoader(test_dataset, batch_size=32, shuffle=False)\n",
    "\n",
    "# Initialize model, criterion, and optimizer\n",
    "model = cnn_fault_diagnosis.SimpleCNN()\n",
    "criterion = torch.nn.MSELoss()  # Mean Squared Error for regression problems\n",
    "optimizer = optim.Adam(model.parameters(), lr=0.001)\n",
    "\n",
    "# Training loop\n",
    "num_epochs = 20\n",
    "for epoch in range(num_epochs):\n",
    "    model.train()\n",
    "    for batch in train_loader:\n",
    "        inputs, labels = batch\n",
    "        optimizer.zero_grad()\n",
    "        outputs = model(inputs)\n",
    "        loss = criterion(outputs, labels)\n",
    "        loss.backward()\n",
    "        optimizer.step()\n",
    "\n",
    "    # Validation loop\n",
    "    model.eval()\n",
    "    val_loss = 0.0\n",
    "    with torch.no_grad():\n",
    "        for batch in val_loader:\n",
    "            inputs, labels = batch\n",
    "            outputs = model(inputs)\n",
    "            loss = criterion(outputs, labels)\n",
    "            val_loss += loss.item()\n",
    "    print(f\"Epoch {epoch+1}/{num_epochs}, Validation Loss: {val_loss/len(val_loader)}\")\n",
    "\n",
    "# Testing loop\n",
    "model.eval()\n",
    "test_loss = 0.0\n",
    "with torch.no_grad():\n",
    "    for batch in test_loader:\n",
    "        inputs, labels = batch\n",
    "        outputs = model(inputs)\n",
    "        loss = criterion(outputs, labels)\n",
    "        test_loss += loss.item()\n",
    "print(f\"Test Loss: {test_loss/len(test_loader)}\")"
   ]
  },
  {
   "cell_type": "code",
   "execution_count": 23,
   "id": "3328ddcf",
   "metadata": {},
   "outputs": [
    {
     "data": {
      "text/plain": [
       "<matplotlib.collections.PathCollection at 0x1b7f1a00a30>"
      ]
     },
     "execution_count": 23,
     "metadata": {},
     "output_type": "execute_result"
    },
    {
     "data": {
      "image/png": "[encoded data removed]",
      "text/plain": [
       "<Figure size 640x480 with 1 Axes>"
      ]
     },
     "metadata": {},
     "output_type": "display_data"
    },
    {
     "data": {
      "image/png": "[encoded data removed]",
      "text/plain": [
       "<Figure size 640x480 with 1 Axes>"
      ]
     },
     "metadata": {},
     "output_type": "display_data"
    }
   ],
   "source": [
    "diff = (labels - outputs).numpy()\n",
    "\n",
    "fig, ax = plt.subplots()\n",
    "ax.boxplot(diff)\n",
    "\n",
    "fig, ax = plt.subplots()\n",
    "ax.scatter(labels[:,1], outputs[:,1])"
   ]
  },
  {
   "cell_type": "code",
   "execution_count": null,
   "id": "0a6c1928",
   "metadata": {},
   "outputs": [],
   "source": []
  }
 ],
 "metadata": {
  "kernelspec": {
   "display_name": "urbansurge-env",
   "language": "python",
   "name": "urbansurge-env"
  },
  "language_info": {
   "codemirror_mode": {
    "name": "ipython",
    "version": 3
   },
   "file_extension": ".py",
   "mimetype": "text/x-python",
   "name": "python",
   "nbconvert_exporter": "python",
   "pygments_lexer": "ipython3",
   "version": "3.9.5"
  }
 },
 "nbformat": 4,
 "nbformat_minor": 5
}
