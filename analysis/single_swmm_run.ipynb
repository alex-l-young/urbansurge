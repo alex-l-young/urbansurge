{
 "cells": [
  {
   "cell_type": "markdown",
   "id": "27156807",
   "metadata": {},
   "source": [
    "## Run a SWMM simulation"
   ]
  },
  {
   "cell_type": "code",
   "execution_count": 1,
   "id": "75b97bf6",
   "metadata": {},
   "outputs": [],
   "source": [
    "# Library imports.\n",
    "from pyswmm import Simulation, Links, Output\n",
    "from swmm.toolkit.shared_enum import LinkAttribute, NodeAttribute\n",
    "from pathlib import Path\n",
    "import matplotlib.pyplot as plt\n",
    "import matplotlib.dates as mdates\n",
    "\n",
    "# Local imports.\n",
    "from urbansurge.file_utils import set_inp_section, add_prcp_timeseries, set_raingage"
   ]
  },
  {
   "cell_type": "code",
   "execution_count": 4,
   "id": "9304ce8d",
   "metadata": {},
   "outputs": [
    {
     "name": "stdout",
     "output_type": "stream",
     "text": [
      "C:\\Users\\ay434\\Box\\Research\\NSF_SCC\\SWMM\\SWMM_Files\\SWMM\\Canandaigua_Orig - Copy.inp\n"
     ]
    }
   ],
   "source": [
    "# Path to the SWMM inp file.\n",
    "swmm_dir = Path(r\"C:\\Users\\ay434\\Box\\Research\\NSF_SCC\\SWMM\\SWMM_Files\\SWMM\")\n",
    "inp_name = \"Canandaigua_Orig - Copy.inp\"\n",
    "out_name = \"Canandaigua_Orig - Copy.out\"\n",
    "\n",
    "swmm_path = str(swmm_dir / inp_name)\n",
    "swmm_out_path = str(swmm_dir / out_name)\n",
    "\n",
    "print(swmm_path)"
   ]
  },
  {
   "cell_type": "code",
   "execution_count": 5,
   "id": "bde7d4ad",
   "metadata": {},
   "outputs": [
    {
     "ename": "Exception",
     "evalue": "\n  ERROR 191: simulation start date comes after ending date.",
     "output_type": "error",
     "traceback": [
      "\u001b[1;31m---------------------------------------------------------------------------\u001b[0m",
      "\u001b[1;31mException\u001b[0m                                 Traceback (most recent call last)",
      "Cell \u001b[1;32mIn[5], line 2\u001b[0m\n\u001b[0;32m      1\u001b[0m \u001b[38;5;66;03m# SWMM simulation.\u001b[39;00m\n\u001b[1;32m----> 2\u001b[0m \u001b[38;5;28;01mwith\u001b[39;00m \u001b[43mSimulation\u001b[49m\u001b[43m(\u001b[49m\u001b[43mswmm_path\u001b[49m\u001b[43m)\u001b[49m \u001b[38;5;28;01mas\u001b[39;00m sim:\n\u001b[0;32m      3\u001b[0m     \u001b[38;5;66;03m# Edit link parameters.\u001b[39;00m\n\u001b[0;32m      4\u001b[0m     component_name \u001b[38;5;241m=\u001b[39m \u001b[38;5;241m2\u001b[39m\n\u001b[0;32m      5\u001b[0m     \u001b[38;5;66;03m# -----------------------------------\u001b[39;00m\n",
      "File \u001b[1;32mc:\\users\\ay434\\desktop\\python\\urbansurge-env\\lib\\site-packages\\pyswmm\\simulation.py:69\u001b[0m, in \u001b[0;36mSimulation.__init__\u001b[1;34m(self, inputfile, reportfile, outputfile, swmm_lib_path)\u001b[0m\n\u001b[0;32m     63\u001b[0m \u001b[38;5;28;01mdef\u001b[39;00m \u001b[38;5;21m__init__\u001b[39m(\u001b[38;5;28mself\u001b[39m,\n\u001b[0;32m     64\u001b[0m              inputfile,\n\u001b[0;32m     65\u001b[0m              reportfile\u001b[38;5;241m=\u001b[39m\u001b[38;5;28;01mNone\u001b[39;00m,\n\u001b[0;32m     66\u001b[0m              outputfile\u001b[38;5;241m=\u001b[39m\u001b[38;5;28;01mNone\u001b[39;00m,\n\u001b[0;32m     67\u001b[0m              swmm_lib_path\u001b[38;5;241m=\u001b[39m\u001b[38;5;28;01mNone\u001b[39;00m):\n\u001b[0;32m     68\u001b[0m     \u001b[38;5;28mself\u001b[39m\u001b[38;5;241m.\u001b[39m_model \u001b[38;5;241m=\u001b[39m PySWMM(inputfile, reportfile, outputfile, swmm_lib_path)\n\u001b[1;32m---> 69\u001b[0m     \u001b[38;5;28;43mself\u001b[39;49m\u001b[38;5;241;43m.\u001b[39;49m\u001b[43m_model\u001b[49m\u001b[38;5;241;43m.\u001b[39;49m\u001b[43mswmm_open\u001b[49m\u001b[43m(\u001b[49m\u001b[43m)\u001b[49m\n\u001b[0;32m     70\u001b[0m     \u001b[38;5;28mself\u001b[39m\u001b[38;5;241m.\u001b[39m_isOpen \u001b[38;5;241m=\u001b[39m \u001b[38;5;28;01mTrue\u001b[39;00m\n\u001b[0;32m     71\u001b[0m     \u001b[38;5;28mself\u001b[39m\u001b[38;5;241m.\u001b[39m_advance_seconds \u001b[38;5;241m=\u001b[39m \u001b[38;5;28;01mNone\u001b[39;00m\n",
      "File \u001b[1;32mc:\\users\\ay434\\desktop\\python\\urbansurge-env\\lib\\site-packages\\pyswmm\\swmm5.py:217\u001b[0m, in \u001b[0;36mPySWMM.swmm_open\u001b[1;34m(self, inpfile, rptfile, binfile)\u001b[0m\n\u001b[0;32m    214\u001b[0m         binfile \u001b[38;5;241m=\u001b[39m \u001b[38;5;28mself\u001b[39m\u001b[38;5;241m.\u001b[39minpfile\u001b[38;5;241m.\u001b[39mreplace(\u001b[38;5;124m'\u001b[39m\u001b[38;5;124m.inp\u001b[39m\u001b[38;5;124m'\u001b[39m, \u001b[38;5;124m'\u001b[39m\u001b[38;5;124m.out\u001b[39m\u001b[38;5;124m'\u001b[39m)\n\u001b[0;32m    215\u001b[0m         \u001b[38;5;28mself\u001b[39m\u001b[38;5;241m.\u001b[39mbinfile \u001b[38;5;241m=\u001b[39m binfile\n\u001b[1;32m--> 217\u001b[0m \u001b[43msolver\u001b[49m\u001b[38;5;241;43m.\u001b[39;49m\u001b[43mswmm_open\u001b[49m\u001b[43m(\u001b[49m\u001b[43minpfile\u001b[49m\u001b[43m,\u001b[49m\u001b[43m \u001b[49m\u001b[43mrptfile\u001b[49m\u001b[43m,\u001b[49m\u001b[43m \u001b[49m\u001b[43mbinfile\u001b[49m\u001b[43m)\u001b[49m\n\u001b[0;32m    218\u001b[0m \u001b[38;5;28mself\u001b[39m\u001b[38;5;241m.\u001b[39mfileLoaded \u001b[38;5;241m=\u001b[39m \u001b[38;5;28;01mTrue\u001b[39;00m\n",
      "File \u001b[1;32mc:\\users\\ay434\\desktop\\python\\urbansurge-env\\lib\\site-packages\\swmm\\toolkit\\solver.py:573\u001b[0m, in \u001b[0;36mswmm_open\u001b[1;34m(f1, f2, f3)\u001b[0m\n\u001b[0;32m    559\u001b[0m \u001b[38;5;28;01mdef\u001b[39;00m \u001b[38;5;21mswmm_open\u001b[39m(f1: \u001b[38;5;124m\"\u001b[39m\u001b[38;5;124mchar const *\u001b[39m\u001b[38;5;124m\"\u001b[39m, f2: \u001b[38;5;124m\"\u001b[39m\u001b[38;5;124mchar const *\u001b[39m\u001b[38;5;124m\"\u001b[39m, f3: \u001b[38;5;124m\"\u001b[39m\u001b[38;5;124mchar const *\u001b[39m\u001b[38;5;124m\"\u001b[39m) \u001b[38;5;241m-\u001b[39m\u001b[38;5;241m>\u001b[39m \u001b[38;5;124m\"\u001b[39m\u001b[38;5;124mint\u001b[39m\u001b[38;5;124m\"\u001b[39m:\n\u001b[0;32m    560\u001b[0m \u001b[38;5;250m    \u001b[39m\u001b[38;5;124mr\u001b[39m\u001b[38;5;124;03m\"\"\"\u001b[39;00m\n\u001b[0;32m    561\u001b[0m \u001b[38;5;124;03m    Opens SWMM input file & reads in network data\u001b[39;00m\n\u001b[0;32m    562\u001b[0m \n\u001b[1;32m   (...)\u001b[0m\n\u001b[0;32m    571\u001b[0m \n\u001b[0;32m    572\u001b[0m \u001b[38;5;124;03m    \"\"\"\u001b[39;00m\n\u001b[1;32m--> 573\u001b[0m     \u001b[38;5;28;01mreturn\u001b[39;00m \u001b[43m_solver\u001b[49m\u001b[38;5;241;43m.\u001b[39;49m\u001b[43mswmm_open\u001b[49m\u001b[43m(\u001b[49m\u001b[43mf1\u001b[49m\u001b[43m,\u001b[49m\u001b[43m \u001b[49m\u001b[43mf2\u001b[49m\u001b[43m,\u001b[49m\u001b[43m \u001b[49m\u001b[43mf3\u001b[49m\u001b[43m)\u001b[49m\n",
      "\u001b[1;31mException\u001b[0m: \n  ERROR 191: simulation start date comes after ending date."
     ]
    }
   ],
   "source": [
    "# SWMM simulation.\n",
    "with Simulation(swmm_path) as sim:\n",
    "    # Edit link parameters.\n",
    "    component_name = 2\n",
    "    # -----------------------------------\n",
    "    section = 'CONDUITS'\n",
    "    \n",
    "    # Edit 1.\n",
    "    column_name = 'Roughness'\n",
    "    new_value = 0.03\n",
    "    set_inp_section(swmm_path, section, column_name, component_name, new_value)\n",
    "    \n",
    "    # Diameter editing.\n",
    "    # ----------------------------------------\n",
    "    diam_section = 'XSECTIONS'\n",
    "    column_name = 'Geom1'\n",
    "    new_diam = 2\n",
    "\n",
    "    # Set the new diameter.\n",
    "    set_inp_section(swmm_path, diam_section, column_name, component_name, new_diam)\n",
    "    \n",
    "    # -----------------------------------\n",
    "    \n",
    "    # Edit precipitation timeseries.\n",
    "    # -----------------------------------    \n",
    "    # Edit 1.\n",
    "    ts_name = 'TS_TEST'\n",
    "    ts_description = 'TS_TEST_DESC'\n",
    "    times = [0, 1, 2, 3, 4, 5, 6]\n",
    "    values = [0, 1, 0.8, 0.6, 0.4, 0.2, 0.0]\n",
    "    add_prcp_timeseries(swmm_path, ts_name, ts_description, times, values, overwrite=True)\n",
    "    \n",
    "    # Set new timeseries to rain gauge.\n",
    "    section = 'RAINGAGES'\n",
    "    rg_ts_name = f'TIMESERIES {ts_name}'\n",
    "    component_name = 1\n",
    "    column_name = 'Source'\n",
    "    set_raingage(swmm_path, column_name, component_name, rg_ts_name)\n",
    "    \n",
    "    # -----------------------------------\n",
    "    \n",
    "    # Run the model.\n",
    "    for ind, step in enumerate(sim):\n",
    "        if ind % 100 == 0:\n",
    "            print(sim.current_time, \",\", round(sim.percent_complete * 100))\n"
   ]
  },
  {
   "cell_type": "markdown",
   "id": "5a69cc96",
   "metadata": {},
   "source": [
    "### Model output"
   ]
  },
  {
   "cell_type": "code",
   "execution_count": 5,
   "id": "7f0e1902",
   "metadata": {},
   "outputs": [],
   "source": [
    "def unpack_series(series):\n",
    "    \"Unpacks SWMM output series into datetime and values.\"\n",
    "    dts = [key for key in series.keys()]\n",
    "    values = [val for val in series.values()]\n",
    "    \n",
    "    return dts, values"
   ]
  },
  {
   "cell_type": "code",
   "execution_count": 6,
   "id": "c31abd8f",
   "metadata": {},
   "outputs": [
    {
     "name": "stdout",
     "output_type": "stream",
     "text": [
      "11\n",
      "6\n",
      "5\n"
     ]
    },
    {
     "data": {
      "image/png": "[encoded data removed]",
      "text/plain": [
       "<Figure size 640x480 with 1 Axes>"
      ]
     },
     "metadata": {},
     "output_type": "display_data"
    }
   ],
   "source": [
    "with Output(swmm_out_path) as out:\n",
    "    print(len(out.subcatchments))\n",
    "    print(len(out.nodes))\n",
    "    print(len(out.links))\n",
    "    \n",
    "    link_dt, link_series = unpack_series(out.link_series('2', LinkAttribute.FLOW_RATE))\n",
    "    node_dt, node_series = unpack_series(out.node_series('17', NodeAttribute.INVERT_DEPTH))\n",
    "    \n",
    "fig, ax = plt.subplots()\n",
    "ax.plot(node_dt, node_series)\n",
    "ax.xaxis.set_major_formatter(mdates.DateFormatter(\"%H:%M\"))"
   ]
  },
  {
   "cell_type": "code",
   "execution_count": null,
   "id": "20d56035",
   "metadata": {},
   "outputs": [],
   "source": []
  },
  {
   "cell_type": "code",
   "execution_count": null,
   "id": "f9e66b6a",
   "metadata": {},
   "outputs": [],
   "source": []
  }
 ],
 "metadata": {
  "kernelspec": {
   "display_name": "urbansurge-env",
   "language": "python",
   "name": "urbansurge-env"
  },
  "language_info": {
   "codemirror_mode": {
    "name": "ipython",
    "version": 3
   },
   "file_extension": ".py",
   "mimetype": "text/x-python",
   "name": "python",
   "nbconvert_exporter": "python",
   "pygments_lexer": "ipython3",
   "version": "3.9.5"
  }
 },
 "nbformat": 4,
 "nbformat_minor": 5
}
