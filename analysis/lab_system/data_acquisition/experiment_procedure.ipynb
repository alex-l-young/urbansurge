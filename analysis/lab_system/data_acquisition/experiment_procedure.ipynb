{
 "cells": [
  {
   "cell_type": "markdown",
   "metadata": {},
   "source": [
    "# SWMM experiment procedure"
   ]
  },
  {
   "cell_type": "markdown",
   "metadata": {},
   "source": [
    "## Steps\n",
    "0. Calibrate tank and pipe sensors\n",
    "\n",
    "1. Run an impulse through the system\n",
    "\n",
    "2. Load impulse into SWMM as inflow hydrograph\n",
    "\n",
    "3. Compare SWMM pipe depth with measured pipe depth"
   ]
  },
  {
   "cell_type": "code",
   "execution_count": 2,
   "metadata": {},
   "outputs": [],
   "source": [
    "# Library imports.\n",
    "from datetime import datetime, timedelta\n",
    "import matplotlib.pyplot as plt\n",
    "import numpy as np\n",
    "import pandas as pd\n",
    "from pathlib import Path\n",
    "from scipy.signal import correlate\n",
    "\n",
    "# UrbanSurge imports.\n",
    "from urbansurge.swmm_model import SWMM\n",
    "from urbansurge.data_acquisition import align_measurements, voltage_to_value\n",
    "from urbansurge.fault_diagnosis.moment_detection import moment_fault_detect\n",
    "\n",
    "%load_ext autoreload\n",
    "%autoreload 2 "
   ]
  },
  {
   "cell_type": "markdown",
   "metadata": {},
   "source": [
    "## Sensor Parameters"
   ]
  },
  {
   "cell_type": "code",
   "execution_count": 3,
   "metadata": {},
   "outputs": [],
   "source": [
    "sensor_parameters = {\n",
    "    'Sergei': {\n",
    "        'calibration': {\n",
    "            'b0': 0.3664,\n",
    "            'b1': 0.7555\n",
    "        },\n",
    "        'location': 'pipe',\n",
    "    },\n",
    "    'Louise': {\n",
    "        'calibration': {\n",
    "            'b0': 0.3208,\n",
    "            'b1': 0.7624\n",
    "        },\n",
    "        'location': 'pipe',\n",
    "    },\n",
    "    'Ludwig': {\n",
    "        'calibration': {\n",
    "            'b0': 0.4141,\n",
    "            'b1': 0.774\n",
    "        },\n",
    "        'location': 'pipe',\n",
    "    },\n",
    "    'Tank': {\n",
    "        'calibration': {\n",
    "            'b0': 4.3401,\n",
    "            'b1': 2.3017\n",
    "        },\n",
    "        'location': 'tank',\n",
    "    },\n",
    "}"
   ]
  },
  {
   "cell_type": "markdown",
   "metadata": {
    "vscode": {
     "languageId": "plaintext"
    }
   },
   "source": [
    "## Load in experiment"
   ]
  },
  {
   "cell_type": "markdown",
   "metadata": {},
   "source": [
    "#### Baseline and test experiments"
   ]
  },
  {
   "cell_type": "code",
   "execution_count": null,
   "metadata": {},
   "outputs": [],
   "source": [
    "# Load in experiment data.\n",
    "experiment_dir = Path(r\"C:\\Users\\ay434\\Box\\Research\\Smart_Stormwater\\DeFrees Lab System\\Experiments\\2025-01-09\")\n",
    "\n",
    "# List file names for easy copy-paste.\n",
    "for fp in experiment_dir.glob('*.csv'):\n",
    "    print(f'\"{fp.name}\",')\n",
    "\n",
    "# Baseline files.\n",
    "baseline_files = [\n",
    "    \"2025-01-09_14-45-38_sensor_data.csv\",\n",
    "    \"2025-01-09_14-47-22_sensor_data.csv\",\n",
    "    \"2025-01-09_14-48-08_sensor_data.csv\",\n",
    "    \"2025-01-09_14-48-52_sensor_data.csv\",\n",
    "    \"2025-01-09_14-49-35_sensor_data.csv\",\n",
    "]\n",
    "\n",
    "# Test files.\n",
    "test_files = [\n",
    "    \"2025-01-09_14-51-51_sensor_data.csv\",\n",
    "    \"2025-01-09_14-52-38_sensor_data.csv\",\n",
    "    \"2025-01-09_14-53-24_sensor_data.csv\",\n",
    "]\n",
    "\n",
    "# Baseline data frames.\n",
    "baseline_dfs = [pd.read_csv(experiment_dir / f) for f in baseline_files]\n",
    "\n",
    "# Test data frames.\n",
    "test_dfs = [pd.read_csv(experiment_dir / f) for f in test_files]"
   ]
  },
  {
   "cell_type": "markdown",
   "metadata": {},
   "source": [
    "#### Plot sensor readings"
   ]
  },
  {
   "cell_type": "code",
   "execution_count": null,
   "metadata": {},
   "outputs": [],
   "source": [
    "# Unaligned impulse and depth measurements.\n",
    "fig, (ax1, ax2) = plt.subplots(1, 2, figsize=(10,4))\n",
    "\n",
    "# Impulse.\n",
    "for df in baseline_dfs:\n",
    "    ax1.plot(df['time'], df['V_ai0'], 'k', alpha=0.3)\n",
    "\n",
    "for df in test_dfs:\n",
    "    ax1.plot(df['time'], df['V_ai0'], 'b', alpha=0.5)\n",
    "\n",
    "ax1.set_xlim(0, 12)\n",
    "ax1.set_title('Tank')\n",
    "ax1.set_xlabel('Time (s)', fontsize=12)\n",
    "ax1.set_ylabel('Voltage', fontsize=12)\n",
    "\n",
    "# Depth in pipe.\n",
    "for df in baseline_dfs:\n",
    "    ax2.plot(df['time'], df['V_ai1'], 'k', alpha=0.3)\n",
    "\n",
    "for df in test_dfs:\n",
    "    ax2.plot(df['time'], df['V_ai1'], 'b', alpha=0.5)\n",
    "\n",
    "# Legend plots.\n",
    "ax2.plot([], [], 'k', alpha=0.5, label='Baseline')\n",
    "ax2.plot([], [], 'b', alpha=0.5, label='Test')\n",
    "ax2.legend(fontsize=10, frameon=False)\n",
    "\n",
    "ax2.set_xlim(10, 25)\n",
    "ax2.set_ylim(4.8, 6)\n",
    "ax2.set_title('Pipe')\n",
    "ax2.set_xlabel('Time (s)', fontsize=12)\n",
    "ax2.set_ylabel('Voltage', fontsize=12)\n"
   ]
  },
  {
   "cell_type": "markdown",
   "metadata": {},
   "source": [
    "#### Convert voltage to depth (tank)"
   ]
  },
  {
   "cell_type": "code",
   "execution_count": 6,
   "metadata": {},
   "outputs": [],
   "source": [
    "# Tank measurements.\n",
    "tank_sensor_name = 'Tank'\n",
    "b0_tank = sensor_parameters[tank_sensor_name]['calibration']['b0']\n",
    "b1_tank = sensor_parameters[tank_sensor_name]['calibration']['b1']\n",
    "\n",
    "# Baseline data frames.\n",
    "for df in baseline_dfs:\n",
    "    # Tank voltage.\n",
    "    V_tank = df['V_ai0'].to_numpy()\n",
    "\n",
    "    # Tank height (cm).\n",
    "    h_tank = voltage_to_value(V_tank, b0_tank, b1_tank)\n",
    "\n",
    "    # Add new column to df with converted values.\n",
    "    df['V_ai0_h'] = h_tank\n",
    "\n",
    "# Test data frames.\n",
    "for df in test_dfs:\n",
    "    # Tank voltage.\n",
    "    V_tank = df['V_ai0'].to_numpy()\n",
    "\n",
    "    # Tank height (cm).\n",
    "    h_tank = voltage_to_value(V_tank, b0_tank, b1_tank)\n",
    "\n",
    "    # Add new column to df with converted values.\n",
    "    df['V_ai0_h'] = h_tank"
   ]
  },
  {
   "cell_type": "markdown",
   "metadata": {},
   "source": [
    "#### Convert voltage to depth (pipe)"
   ]
  },
  {
   "cell_type": "code",
   "execution_count": 11,
   "metadata": {},
   "outputs": [],
   "source": [
    "# Pipe measurements.\n",
    "pipe_sensor_name = 'Sergei'\n",
    "b0 = sensor_parameters[pipe_sensor_name]['calibration']['b0']\n",
    "b1 = sensor_parameters[pipe_sensor_name]['calibration']['b1']\n",
    "\n",
    "# Baseline data frames.\n",
    "for df in baseline_dfs:\n",
    "    # Voltage.\n",
    "    V = df['V_ai1'].to_numpy()\n",
    "\n",
    "    # Depth (cm).\n",
    "    d = voltage_to_value(V, b0, b1)\n",
    "\n",
    "    # Add new column to df with converted values.\n",
    "    df['V_ai1_d'] = d\n",
    "\n",
    "# Test data frames.\n",
    "for df in test_dfs:\n",
    "    # Voltage.\n",
    "    V = df['V_ai1'].to_numpy()\n",
    "\n",
    "    # Depth (cm).\n",
    "    d = voltage_to_value(V, b0, b1)\n",
    "\n",
    "    # Add new column to df with converted values.\n",
    "    df['V_ai1_d'] = d"
   ]
  },
  {
   "cell_type": "markdown",
   "metadata": {},
   "source": [
    "#### Zero out starting tank levels"
   ]
  },
  {
   "cell_type": "code",
   "execution_count": null,
   "metadata": {},
   "outputs": [],
   "source": [
    "# Number of starting indices where tank is at \"zero.\"\n",
    "n_init = 20\n",
    "\n",
    "# Baseline data frames.\n",
    "for df in baseline_dfs:\n",
    "    # Starting value is mean of first n_init values.\n",
    "    V_init = df['V_ai0_h'].iloc[:n_init].mean()\n",
    "    \n",
    "    # Subtract out the initial voltage.\n",
    "    V_zeroed = df['V_ai0_h'] - V_init\n",
    "\n",
    "    # Substitute into new data frame.\n",
    "    df['V_ai0_h_zero'] = V_zeroed\n",
    "\n",
    "# Test data frames.\n",
    "for df in test_dfs:\n",
    "    # Starting value is mean of first n_init values.\n",
    "    V_init = df['V_ai0_h'].iloc[:n_init].mean()\n",
    "    \n",
    "    # Subtract out the initial voltage.\n",
    "    V_zeroed = df['V_ai0_h'] - V_init\n",
    "\n",
    "    # Substitute into new data frame.\n",
    "    df['V_ai0_h_zero'] = V_zeroed\n",
    "\n",
    "# Plot.\n",
    "fig, ax1 = plt.subplots(figsize=(5,4))\n",
    "\n",
    "# Impulse.\n",
    "for df in baseline_dfs:\n",
    "    ax1.plot(df['time'], df['V_ai0_h_zero'], 'k', alpha=0.3)\n",
    "\n",
    "for df in test_dfs:\n",
    "    ax1.plot(df['time'], df['V_ai0_h_zero'], 'b', alpha=0.5)\n",
    "\n",
    "# Legend plots.\n",
    "ax1.plot([], [], 'k', alpha=0.5, label='Baseline')\n",
    "ax1.plot([], [], 'b', alpha=0.5, label='Test')\n",
    "ax1.legend(fontsize=10, frameon=False)\n",
    "\n",
    "ax1.set_xlim(0, 12)\n",
    "ax1.set_title('Tank')\n",
    "ax1.set_xlabel('Time (s)', fontsize=12)\n",
    "ax1.set_ylabel('Water Level (cm)', fontsize=12)"
   ]
  },
  {
   "cell_type": "markdown",
   "metadata": {},
   "source": [
    "#### Align sensor readings based on head tank measurements."
   ]
  },
  {
   "cell_type": "code",
   "execution_count": null,
   "metadata": {},
   "outputs": [],
   "source": [
    "# Align all data frames to reference data frame based on head tank measurement column.\n",
    "\n",
    "# Reference data frame.\n",
    "df_ref = baseline_dfs[0]\n",
    "df_ref['time_align'] = df_ref['time'] # This is the reference data frame so it doesn't need to be aligned.\n",
    "\n",
    "# Align baseline data frames.\n",
    "for df in baseline_dfs[1:]:\n",
    "    t_align = align_measurements(df_ref, df, 'time', 'V_ai0_h_zero')\n",
    "    df['time_align'] = t_align\n",
    "\n",
    "# Align test data frames.\n",
    "for df in test_dfs:\n",
    "    t_align = align_measurements(df_ref, df, 'time', 'V_ai0_h_zero')\n",
    "    df['time_align'] = t_align\n",
    "\n",
    "# Plotting\n",
    "fig, (ax1, ax2) = plt.subplots(1, 2, figsize=(10,4))\n",
    "\n",
    "# Impulse.\n",
    "for df in baseline_dfs:\n",
    "    ax1.plot(df['time_align'], df['V_ai0_h_zero'], 'k', alpha=0.3)\n",
    "\n",
    "for df in test_dfs:\n",
    "    ax1.plot(df['time_align'], df['V_ai0_h_zero'], 'b', alpha=0.5)\n",
    "\n",
    "# Legend plots.\n",
    "ax1.plot([], [], 'k', alpha=0.5, label='Baseline')\n",
    "ax1.plot([], [], 'b', alpha=0.5, label='Test')\n",
    "ax1.legend(fontsize=10, frameon=False)\n",
    "\n",
    "ax1.set_xlim(0, 12)\n",
    "ax1.set_title('Tank')\n",
    "ax1.set_xlabel('Time (s)', fontsize=12)\n",
    "ax1.set_ylabel('Voltage', fontsize=12)\n",
    "\n",
    "# Depth in pipe.\n",
    "for df in baseline_dfs:\n",
    "    ax2.plot(df['time_align'], df['V_ai1_d'], 'k', alpha=0.3)\n",
    "\n",
    "for df in test_dfs:\n",
    "    ax2.plot(df['time_align'], df['V_ai1_d'], 'b', alpha=0.5)\n",
    "\n",
    "# ax2.set_xlim(10, 25)\n",
    "ax2.set_ylim(4, 5)\n",
    "ax2.set_title('Pipe')\n",
    "ax2.set_xlabel('Time (s)', fontsize=12)\n",
    "ax2.set_ylabel('Depth (cm)', fontsize=12)"
   ]
  },
  {
   "cell_type": "markdown",
   "metadata": {},
   "source": [
    "## Impulse"
   ]
  },
  {
   "cell_type": "markdown",
   "metadata": {},
   "source": [
    "### Process raw tank measurement to flow."
   ]
  },
  {
   "cell_type": "code",
   "execution_count": null,
   "metadata": {},
   "outputs": [],
   "source": []
  },
  {
   "cell_type": "markdown",
   "metadata": {},
   "source": [
    "### Convert to SWMM-readable impulse"
   ]
  },
  {
   "cell_type": "code",
   "execution_count": null,
   "metadata": {},
   "outputs": [],
   "source": []
  },
  {
   "cell_type": "markdown",
   "metadata": {},
   "source": [
    "## Depth measurements"
   ]
  },
  {
   "cell_type": "markdown",
   "metadata": {},
   "source": []
  },
  {
   "cell_type": "markdown",
   "metadata": {},
   "source": [
    "## SWMM simulation"
   ]
  },
  {
   "cell_type": "markdown",
   "metadata": {},
   "source": [
    "### Load SWMM modeled depth"
   ]
  },
  {
   "cell_type": "code",
   "execution_count": null,
   "metadata": {},
   "outputs": [],
   "source": [
    "# Path to configuration file.\n",
    "config_path = r\"lab_system_config.yml\"\n",
    "\n",
    "# Create instance of SWMM model.\n",
    "swmm = SWMM(config_path)\n",
    "\n",
    "# Configure model.\n",
    "swmm.configure_model()\n",
    "\n",
    "# Extract depth at measurement link.\n"
   ]
  },
  {
   "cell_type": "markdown",
   "metadata": {},
   "source": [
    "## Compare measured and modeled depths"
   ]
  },
  {
   "cell_type": "markdown",
   "metadata": {},
   "source": [
    "### Fault Detection"
   ]
  },
  {
   "cell_type": "code",
   "execution_count": null,
   "metadata": {},
   "outputs": [],
   "source": [
    "# Number of sensors.\n",
    "n_sensor = 1\n",
    "\n",
    "# Number of time steps.\n",
    "Nt = baseline_dfs[0].shape[0] # Number of baseline time steps.\n",
    "\n",
    "# Time steps.\n",
    "dt = baseline_dfs[0]['time'][1] - baseline_dfs[0]['time'][0]\n",
    "dts = [datetime.now() + timedelta(seconds=i*dt) for i in range(Nt)]\n",
    "\n",
    "# Format baseline samples.\n",
    "n_samp_base = len(baseline_dfs)\n",
    "y_base = np.zeros((n_samp_base, Nt, 1))\n",
    "for i, df in enumerate(baseline_dfs):\n",
    "    y_base[i,:,:] = df['V_ai1_d'].to_numpy().reshape(-1,1)\n",
    "\n",
    "# Format observation samples.\n",
    "n_samp_test = len(test_dfs)\n",
    "detections = []\n",
    "moment_dicts = []\n",
    "for i, df in enumerate(test_dfs):\n",
    "    y_test = df['V_ai1_d'].to_numpy().reshape(1,-1)\n",
    "    detect, moments = moment_fault_detect(dts, y_base, y_test, return_moments=True)\n",
    "    detections.append(detect)\n",
    "    moment_dicts.append(moments)\n",
    "\n",
    "print(f'Detections: {detections}')"
   ]
  },
  {
   "cell_type": "code",
   "execution_count": null,
   "metadata": {},
   "outputs": [],
   "source": [
    "fig, axes = plt.subplots(3,4, figsize=(12,8))\n",
    "for i in range(len(moment_dicts)):\n",
    "    baseline_moments = moment_dicts[i]['baseline']\n",
    "    test_moments = moment_dicts[i]['observation']\n",
    "\n",
    "    for j in range(4):\n",
    "        axes[i,j].scatter(j, np.min(baseline_moments[:,j]), c='k')\n",
    "        axes[i,j].scatter(j, np.max(baseline_moments[:,j]), c='k')\n",
    "        axes[i,j].scatter(j, test_moments[j], c='k', marker='x')\n",
    "\n",
    "fig.tight_layout()"
   ]
  },
  {
   "cell_type": "markdown",
   "metadata": {},
   "source": [
    "### Fault Diagnosis"
   ]
  },
  {
   "cell_type": "markdown",
   "metadata": {},
   "source": []
  }
 ],
 "metadata": {
  "kernelspec": {
   "display_name": "urbansurge-env",
   "language": "python",
   "name": "urbansurge-env"
  },
  "language_info": {
   "codemirror_mode": {
    "name": "ipython",
    "version": 3
   },
   "file_extension": ".py",
   "mimetype": "text/x-python",
   "name": "python",
   "nbconvert_exporter": "python",
   "pygments_lexer": "ipython3",
   "version": "3.9.5"
  }
 },
 "nbformat": 4,
 "nbformat_minor": 2
}
