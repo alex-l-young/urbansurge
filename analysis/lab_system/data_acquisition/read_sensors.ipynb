{
 "cells": [
  {
   "cell_type": "markdown",
   "metadata": {},
   "source": [
    "# Sensors in UrbanSurge\n",
    "### Workflow for creating sensors, reading data, saving data, and loading data records"
   ]
  },
  {
   "cell_type": "code",
   "execution_count": 6,
   "metadata": {},
   "outputs": [
    {
     "name": "stdout",
     "output_type": "stream",
     "text": [
      "The autoreload extension is already loaded. To reload it, use:\n",
      "  %reload_ext autoreload\n"
     ]
    }
   ],
   "source": [
    "# Library imports\n",
    "from pathlib import Path\n",
    "from urbansurge.sensors import Sensor, list_sensors, load_sensor\n",
    "\n",
    "%load_ext autoreload\n",
    "%autoreload 2"
   ]
  },
  {
   "cell_type": "markdown",
   "metadata": {},
   "source": [
    "## Top-level configurations\n",
    "``sensor_path`` - This is a directory where new sensor data will be stored. The structure is that each sensor has its own sub-directory where individual .csv files are saved and where the metadata.json file is stored.\n",
    "```\n",
    "~/sensor_path/\n",
    "    - sensor_name/\n",
    "        - sensor_name-<y-m-d_H-M-s>.csv\n",
    "        - metadata.json\n",
    "```"
   ]
  },
  {
   "cell_type": "code",
   "execution_count": 2,
   "metadata": {},
   "outputs": [],
   "source": [
    "# Path to sensor directory where data is stored.\n",
    "sensor_path = Path('/Users/alexyoung/Desktop/Cornell/Research/urbansurge/analysis/lab_system/data_acquisition/urbansurge_sensors')"
   ]
  },
  {
   "cell_type": "markdown",
   "metadata": {
    "vscode": {
     "languageId": "plaintext"
    }
   },
   "source": [
    "## Creating new sensors"
   ]
  },
  {
   "cell_type": "markdown",
   "metadata": {},
   "source": [
    "### NI-DAQ Sensor"
   ]
  },
  {
   "cell_type": "code",
   "execution_count": 3,
   "metadata": {},
   "outputs": [
    {
     "name": "stdout",
     "output_type": "stream",
     "text": [
      ">>> Sensor named Test NI DAQ Sensor already exists, loading...\n"
     ]
    }
   ],
   "source": [
    "# Metadata parameters.\n",
    "sensor_name = \"Test NI DAQ Sensor\" # White space will be replaced with underscores in directory name.\n",
    "description = \"Any description that isn't captured in the rest of the metadata.\"\n",
    "sensor_make = \"Sauron Inc.\"\n",
    "sensor_model = \"The Eye 3000\"\n",
    "\n",
    "# Instantiate sensor.\n",
    "daq_sensor = Sensor(sensor_path, sensor_name, description, sensor_make, sensor_model)"
   ]
  },
  {
   "cell_type": "markdown",
   "metadata": {},
   "source": [
    "#### If a sensor already exists with that name\n",
    "\n",
    "If a sensor with the same name already exists, a warning message will show and the existing sensor will be used instead.\n",
    "\n",
    "The existing sensor can be overwritten by supplying the keyword argument ``overwrite=True``.\n",
    "\n",
    "E.g., ``sensor = Sensor(sensor_name, description, sensor_make, sensor_model, sampling_rate, overwrite=True)``"
   ]
  },
  {
   "cell_type": "markdown",
   "metadata": {},
   "source": [
    "## Loading existing sensors\n",
    "Running the following code will print out a list of all existing sensor names and the sensor class used to generate them."
   ]
  },
  {
   "cell_type": "code",
   "execution_count": 11,
   "metadata": {},
   "outputs": [
    {
     "name": "stdout",
     "output_type": "stream",
     "text": [
      "Available Sensors:\n",
      "> Test NI DAQ Sensor\n"
     ]
    }
   ],
   "source": [
    "# List previously-created sensors.\n",
    "list_sensors(sensor_path)"
   ]
  },
  {
   "cell_type": "markdown",
   "metadata": {},
   "source": [
    "Load a specific sensor from the list with ``load_sensor(sensor_path, sensor_name)``"
   ]
  },
  {
   "cell_type": "code",
   "execution_count": 14,
   "metadata": {},
   "outputs": [
    {
     "name": "stdout",
     "output_type": "stream",
     "text": [
      ">>> Loaded 'Test NI DAQ Sensor'\n"
     ]
    }
   ],
   "source": [
    "sensor_name = 'Test NI DAQ Sensor'\n",
    "daq_sensor = load_sensor(sensor_path, sensor_name)"
   ]
  },
  {
   "cell_type": "code",
   "execution_count": null,
   "metadata": {},
   "outputs": [],
   "source": []
  }
 ],
 "metadata": {
  "kernelspec": {
   "display_name": "urbansurge-env",
   "language": "python",
   "name": "python3"
  },
  "language_info": {
   "codemirror_mode": {
    "name": "ipython",
    "version": 3
   },
   "file_extension": ".py",
   "mimetype": "text/x-python",
   "name": "python",
   "nbconvert_exporter": "python",
   "pygments_lexer": "ipython3",
   "version": "3.8.4"
  }
 },
 "nbformat": 4,
 "nbformat_minor": 2
}
