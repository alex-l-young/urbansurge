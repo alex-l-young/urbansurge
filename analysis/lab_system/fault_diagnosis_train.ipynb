{
 "cells": [
  {
   "cell_type": "code",
   "execution_count": 1,
   "id": "980cce16",
   "metadata": {},
   "outputs": [],
   "source": [
    "# Library imports.\n",
    "import matplotlib.pyplot as plt\n",
    "import matplotlib.dates as mdates\n",
    "import numpy as np\n",
    "import pandas as pd\n",
    "from sklearn import metrics\n",
    "from sklearn.preprocessing import MinMaxScaler\n",
    "import torch\n",
    "import torch.optim as optim\n",
    "import torch.nn as nn\n",
    "from torch.utils.data import Dataset, DataLoader\n",
    "\n",
    "# Urbansurge imports.\n",
    "from urbansurge import swmm_model, analysis_tools, file_utils\n",
    "from urbansurge.fault_diagnosis import ann_fault_classifier\n",
    "\n",
    "# Autoreload.\n",
    "%load_ext autoreload\n",
    "%autoreload 2"
   ]
  },
  {
   "cell_type": "code",
   "execution_count": 3,
   "id": "50acbf1b",
   "metadata": {},
   "outputs": [],
   "source": [
    "# SWMM model configuration file path.\n",
    "config_path = r\"C:\\Users\\ay434\\Documents\\urbansurge\\analysis\\lab_system\\lab_system_config.yml\"\n",
    "\n",
    "# Node where impulse is added.\n",
    "input_node = 18\n",
    "\n",
    "# Physical model fault database path.\n",
    "phy_save_fp = r\"C:\\Users\\ay434\\Documents\\urbansurge\\analysis\\lab_system\\diagnosis_pipeline\\phy_impulse_fault_database.csv\"\n",
    "\n",
    "# Simulation model fault database path.\n",
    "sim_save_fp = r\"C:\\Users\\ay434\\Documents\\urbansurge\\analysis\\lab_system\\diagnosis_pipeline\\sim_impulse_fault_database.csv\"\n",
    "\n",
    "# Physical model with no faults (i.e., \"healthy\" case)\n",
    "phy_healthy_save_fp = r\"C:\\Users\\ay434\\Documents\\urbansurge\\analysis\\lab_system\\diagnosis_pipeline\\phy_healthy_impulse_database.csv\"\n",
    "\n",
    "# Simulation model with no faults (i.e., \"healthy\" case)\n",
    "sim_healthy_save_fp = r\"C:\\Users\\ay434\\Documents\\urbansurge\\analysis\\lab_system\\diagnosis_pipeline\\sim_healthy_impulse_database.csv\""
   ]
  },
  {
   "cell_type": "code",
   "execution_count": 2,
   "id": "9ba758d7",
   "metadata": {},
   "outputs": [
    {
     "ename": "NameError",
     "evalue": "name 'phy_save_fp' is not defined",
     "output_type": "error",
     "traceback": [
      "\u001B[1;31m---------------------------------------------------------------------------\u001B[0m",
      "\u001B[1;31mNameError\u001B[0m                                 Traceback (most recent call last)",
      "Cell \u001B[1;32mIn[2], line 2\u001B[0m\n\u001B[0;32m      1\u001B[0m \u001B[38;5;66;03m# Physical system fault database.\u001B[39;00m\n\u001B[1;32m----> 2\u001B[0m phy_db \u001B[38;5;241m=\u001B[39m pd\u001B[38;5;241m.\u001B[39mread_csv(\u001B[43mphy_save_fp\u001B[49m)\n\u001B[0;32m      4\u001B[0m \u001B[38;5;66;03m# Simulation system fault database.\u001B[39;00m\n\u001B[0;32m      5\u001B[0m sim_db \u001B[38;5;241m=\u001B[39m pd\u001B[38;5;241m.\u001B[39mread_csv(sim_save_fp)\n",
      "\u001B[1;31mNameError\u001B[0m: name 'phy_save_fp' is not defined"
     ]
    }
   ],
   "source": [
    "# Physical system fault database.\n",
    "phy_db = pd.read_csv(phy_save_fp)\n",
    "\n",
    "# Simulation system fault database.\n",
    "sim_db = pd.read_csv(sim_save_fp)\n",
    "\n",
    "# Physical healthy system run.\n",
    "phy_healthy_db = pd.read_csv(phy_healthy_save_fp)\n",
    "\n",
    "# Simulated healthy system run.\n",
    "sim_healthy_db = pd.read_csv(sim_healthy_save_fp)"
   ]
  },
  {
   "cell_type": "code",
   "execution_count": null,
   "id": "65312ffc",
   "metadata": {},
   "outputs": [],
   "source": [
    "# Depth and velocity columns.\n",
    "dep_vel_cols = [s for s in sim_healthy_db if any(sub in s for sub in ['Depth_link', 'Velocity'])]\n",
    "\n",
    "# Select sensors.\n",
    "sensor_links = [20, 42] #[39, 40, 41, 42, 43, 44, 45, 23, 21, 20]\n",
    "dep_cols = [f'Depth_link_{s}' for s in sensor_links]\n",
    "vel_cols = [f'Velocity_link_{s}' for s in sensor_links]\n",
    "vel_cols = []\n",
    "dep_vel_cols = dep_cols + vel_cols\n",
    "extra_fault_cols = [col for col in sim_db.columns if col not in dep_vel_cols]"
   ]
  }
 ],
 "metadata": {
  "kernelspec": {
   "display_name": "urbansurge-env",
   "language": "python",
   "name": "urbansurge-env"
  },
  "language_info": {
   "codemirror_mode": {
    "name": "ipython",
    "version": 3
   },
   "file_extension": ".py",
   "mimetype": "text/x-python",
   "name": "python",
   "nbconvert_exporter": "python",
   "pygments_lexer": "ipython3",
   "version": "3.9.5"
  }
 },
 "nbformat": 4,
 "nbformat_minor": 5
}
