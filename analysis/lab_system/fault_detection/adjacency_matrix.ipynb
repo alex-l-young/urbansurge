{
 "cells": [
  {
   "cell_type": "code",
   "execution_count": 1,
   "id": "f651c43b",
   "metadata": {},
   "outputs": [],
   "source": [
    "import pandas as pd\n",
    "\n",
    "from urbansurge.sensing import sensor_utils"
   ]
  },
  {
   "cell_type": "code",
   "execution_count": 2,
   "id": "6d7a264a",
   "metadata": {},
   "outputs": [],
   "source": [
    "# Model inp path.\n",
    "inp_path = r\"C:\\Users\\ay434\\Documents\\urbansurge\\analysis\\lab_system\\lab_system.inp\"\n",
    "\n",
    "# Adjacency data frame output path.\n",
    "adj_mat_fp = r\"C:\\Users\\ay434\\Documents\\urbansurge\\analysis\\lab_system\\adjacency_matrix.csv\""
   ]
  },
  {
   "cell_type": "code",
   "execution_count": 4,
   "id": "a989bffe",
   "metadata": {},
   "outputs": [
    {
     "name": "stdout",
     "output_type": "stream",
     "text": [
      "{'20': ('22', '1'), '21': ('2', '21'), '22': ('23', '2'), '23': ('47', '2'), '24': ('4', '26'), '25': ('25', '3'), '26': ('3', '24'), '27': ('5', '28'), '28': ('27', '3'), '29': ('13', '34'), '33': ('6', '30'), '34': ('31', '6'), '37': ('14', '36'), '38': ('29', '2'), '39': ('18', '56'), '40': ('55', '17'), '41': ('17', '51'), '42': ('52', '20'), '43': ('20', '53'), '44': ('54', '15'), '45': ('15', '48'), '46': ('16', '50'), '47': ('49', '15'), '48': ('19', '57'), '49': ('58', '17'), '50': ('9', '42'), '51': ('41', '8'), '52': ('8', '40'), '53': ('39', '7'), '54': ('7', '38'), '55': ('37', '59'), '56': ('10', '44'), '57': ('43', '8'), '58': ('11', '46'), '59': ('45', '7'), '60': ('59', '60'), '61': ('33', '63'), '62': ('35', '63'), '63': ('63', '62'), '65': ('61', '59'), '6': ('34', '33'), '7': ('62', '61'), '8': ('60', '31'), '9': ('30', '29'), '10': ('21', '22'), '11': ('36', '35'), '12': ('26', '25'), '13': ('24', '23'), '14': ('28', '27'), '15': ('42', '41'), '16': ('40', '39'), '17': ('38', '37'), '18': ('46', '45'), '19': ('44', '43'), '30': ('56', '55'), '31': ('57', '58'), '32': ('51', '52'), '35': ('53', '54'), '36': ('50', '49'), '64': ('48', '47')}\n"
     ]
    }
   ],
   "source": [
    "# Conduit node dictionary.\n",
    "conduit_nodes_dict = sensor_utils.link_nodes(inp_path)\n",
    "print(conduit_nodes_dict)\n",
    "\n",
    "# Adjacency matrix.\n",
    "adj_mat = sensor_utils.adjacency_matrix(conduit_nodes_dict, inp_path)"
   ]
  },
  {
   "cell_type": "code",
   "execution_count": 5,
   "id": "4e0b8e83",
   "metadata": {},
   "outputs": [],
   "source": [
    "# Create pandas data frame of adjacency matrix.\n",
    "A_df = pd.DataFrame(adj_mat[0], columns=[f'node_{i}' for i in adj_mat[1]])\n",
    "A_df.to_csv(adj_mat_fp, index=False)"
   ]
  },
  {
   "cell_type": "code",
   "execution_count": null,
   "id": "9cfb9044",
   "metadata": {},
   "outputs": [],
   "source": []
  }
 ],
 "metadata": {
  "kernelspec": {
   "display_name": "urbansurge-env",
   "language": "python",
   "name": "urbansurge-env"
  },
  "language_info": {
   "codemirror_mode": {
    "name": "ipython",
    "version": 3
   },
   "file_extension": ".py",
   "mimetype": "text/x-python",
   "name": "python",
   "nbconvert_exporter": "python",
   "pygments_lexer": "ipython3",
   "version": "3.9.5"
  }
 },
 "nbformat": 4,
 "nbformat_minor": 5
}
