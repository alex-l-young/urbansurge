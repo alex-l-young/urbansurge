{
 "cells": [
  {
   "cell_type": "code",
   "execution_count": 1,
   "id": "0e4f20b0",
   "metadata": {},
   "outputs": [],
   "source": [
    "import pandas as pd\n",
    "from pathlib import Path\n",
    "import matplotlib.pyplot as plt"
   ]
  },
  {
   "cell_type": "code",
   "execution_count": 4,
   "id": "4abcf0c1",
   "metadata": {},
   "outputs": [
    {
     "name": "stdout",
     "output_type": "stream",
     "text": [
      "dates     object\n",
      "times     object\n",
      "Var3     float64\n",
      "dtype: object\n",
      "        dates     times      Var3\n",
      "0  01/01/2020  00:00:00  0.438744\n",
      "1  01/01/2020  00:05:00  0.000000\n",
      "2  01/01/2020  00:10:00  0.000000\n",
      "3  01/01/2020  00:15:00  0.000000\n",
      "4  01/01/2020  00:20:00  0.000000\n",
      "          dates     times  Var3\n",
      "284  01/01/2020  23:40:00   0.0\n",
      "285  01/01/2020  23:45:00   0.0\n",
      "286  01/01/2020  23:50:00   0.0\n",
      "287  01/01/2020  23:55:00   0.0\n",
      "288  01/02/2020  00:00:00   0.0\n"
     ]
    }
   ],
   "source": [
    "# File path.\n",
    "file_dir = Path(r\"C:\\Users\\ay434\\Documents\\urbansurge\\analysis\\lab_system\\precipitation\")\n",
    "fname_in = r\"impulse_unif_1in_n20_60min.csv\"\n",
    "fname_out = r\"impulse_unif_1in_n20_60min.dat\"\n",
    "\n",
    "# Load the csv file into a pandas dataframe\n",
    "df = pd.read_csv(file_dir / fname_in)\n",
    "df.columns = ['dates', 'times', 'Var3']\n",
    "\n",
    "print(df.dtypes)\n",
    "\n",
    "# Save the dataframe as a dat file\n",
    "df.to_csv(file_dir / fname_out, index=False, header=False, sep='\\t')\n",
    "\n",
    "print(df.head())\n",
    "print(df.tail())"
   ]
  },
  {
   "cell_type": "code",
   "execution_count": 5,
   "id": "811b0d71",
   "metadata": {},
   "outputs": [
    {
     "data": {
      "text/plain": [
       "[<matplotlib.lines.Line2D at 0x1277ec91460>]"
      ]
     },
     "execution_count": 5,
     "metadata": {},
     "output_type": "execute_result"
    },
    {
     "data": {
      "image/png": "[encoded data removed]",
      "text/plain": [
       "<Figure size 432x288 with 1 Axes>"
      ]
     },
     "metadata": {
      "needs_background": "light"
     },
     "output_type": "display_data"
    }
   ],
   "source": [
    "fig, ax = plt.subplots()\n",
    "ax.plot(df.Var3)"
   ]
  },
  {
   "cell_type": "code",
   "execution_count": null,
   "id": "180c22ff",
   "metadata": {},
   "outputs": [],
   "source": []
  }
 ],
 "metadata": {
  "kernelspec": {
   "display_name": "flood_env",
   "language": "python",
   "name": "flood_env"
  },
  "language_info": {
   "codemirror_mode": {
    "name": "ipython",
    "version": 3
   },
   "file_extension": ".py",
   "mimetype": "text/x-python",
   "name": "python",
   "nbconvert_exporter": "python",
   "pygments_lexer": "ipython3",
   "version": "3.9.5"
  }
 },
 "nbformat": 4,
 "nbformat_minor": 5
}
