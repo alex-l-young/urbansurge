{
 "cells": [
  {
   "cell_type": "markdown",
   "metadata": {},
   "source": [
    "# Fault Severity Assessment\n",
    "As fault severity increases, the risk of flooding also increases due to the reduced capacity of the stormwater system. \n",
    "This notebook explores the flooding potential of a given fault based on its simulated response to a range of precipitation intensities."
   ]
  },
  {
   "cell_type": "markdown",
   "metadata": {},
   "source": []
  }
 ],
 "metadata": {
  "language_info": {
   "name": "python"
  }
 },
 "nbformat": 4,
 "nbformat_minor": 2
}
