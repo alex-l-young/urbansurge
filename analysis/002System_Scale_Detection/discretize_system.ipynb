{
 "cells": [
  {
   "cell_type": "markdown",
   "metadata": {},
   "source": [
    "# Discretize pipes in EPA SWMM to a finer resolution"
   ]
  },
  {
   "cell_type": "code",
   "execution_count": 59,
   "metadata": {},
   "outputs": [
    {
     "name": "stdout",
     "output_type": "stream",
     "text": [
      "The autoreload extension is already loaded. To reload it, use:\n",
      "  %reload_ext autoreload\n"
     ]
    }
   ],
   "source": [
    "import matplotlib.pyplot as plt\n",
    "import numpy as np\n",
    "from pathlib import Path\n",
    "\n",
    "from urbansurge.swmm_model import SWMM\n",
    "from urbansurge import file_utils\n",
    "\n",
    "# Autoreload.\n",
    "%load_ext autoreload\n",
    "%autoreload 2"
   ]
  },
  {
   "cell_type": "code",
   "execution_count": null,
   "metadata": {},
   "outputs": [],
   "source": [
    "cfg_dir = Path(r'C:\\Users\\ay434\\Documents\\urbansurge\\analysis\\lab_system')\n",
    "cfg_fname = 'conduit_discretize_config.yml'\n",
    "cfg_path = cfg_dir / cfg_fname\n",
    "\n",
    "swmm = SWMM(cfg_path)\n",
    "swmm.configure_model()\n",
    "\n",
    "# Discretize Links.\n",
    "swmm.discretize_link(1, 10)"
   ]
  },
  {
   "cell_type": "markdown",
   "metadata": {},
   "source": [
    "# OLD CODE"
   ]
  },
  {
   "cell_type": "markdown",
   "metadata": {},
   "source": [
    "## Add nodes between nodes."
   ]
  },
  {
   "cell_type": "code",
   "execution_count": 103,
   "metadata": {},
   "outputs": [
    {
     "data": {
      "text/plain": [
       "<matplotlib.legend.Legend at 0x248739d0100>"
      ]
     },
     "execution_count": 103,
     "metadata": {},
     "output_type": "execute_result"
    },
    {
     "data": {
      "image/png": "[encoded data removed]",
      "text/plain": [
       "<Figure size 640x480 with 1 Axes>"
      ]
     },
     "metadata": {},
     "output_type": "display_data"
    }
   ],
   "source": [
    "# Node coordinates. \n",
    "node_dict = {\n",
    "    2: np.array([3709.497, 4905.028]),          \n",
    "    3: np.array([6145.251, 8446.927])  \n",
    "}\n",
    "\n",
    "def node_positions(s1, s2, n_segment, n_round=3):\n",
    "    \"\"\"\n",
    "    Create equally spaced coordinates between s1 and s2 that can be connected by n_segment segments.\n",
    "    \"\"\"\n",
    "    u = s2 - s1\n",
    "    L = np.linalg.norm(u)\n",
    "    n = u / L  # Unit vector\n",
    "\n",
    "    c = L / n_segment  # Segment length\n",
    "\n",
    "    # Generate points between s1 and s2\n",
    "    I = np.arange(1, n_segment)  # Exclude start and end points\n",
    "    uc = s1 + np.outer(I, n) * c\n",
    "\n",
    "    return np.round(uc, n_round)\n",
    "\n",
    "s1 = node_dict[3]\n",
    "s2 = node_dict[2]\n",
    "n_segment = 5\n",
    "uc = node_positions(s1, s2, n_segment)\n",
    "\n",
    "for i in range(len(uc)):\n",
    "    plt.scatter(uc[i,0], uc[i,1], label=i)\n",
    "plt.scatter(node_dict[2][0], node_dict[2][1], c='r', marker='x', label='2')\n",
    "plt.scatter(node_dict[3][0], node_dict[3][1], c='g', marker='x', label='3')\n",
    "plt.legend()"
   ]
  },
  {
   "cell_type": "markdown",
   "metadata": {},
   "source": [
    "## Invert elevation of new nodes"
   ]
  },
  {
   "cell_type": "code",
   "execution_count": null,
   "metadata": {},
   "outputs": [
    {
     "name": "stdout",
     "output_type": "stream",
     "text": [
      "[8.6 7.2 5.8 4.4]\n"
     ]
    }
   ],
   "source": [
    "node_elev_dict = {\n",
    "    2: 10,          \n",
    "    3: 3 \n",
    "}\n",
    "\n",
    "def discretize_invert_elevations(h1, h2, n_segment):\n",
    "    \"\"\"\n",
    "    Invert elevations for discretized nodes.\n",
    "\n",
    "    :param h1: Invert elevation of point 1.\n",
    "    :param h2: Invert elevation of point 2.\n",
    "    :param n_segment: Number of segments that the original link was discretized into.\n",
    "\n",
    "    :return: Invert elevations of discretized nodes.\n",
    "    \"\"\"\n",
    "\n",
    "    return np.linspace(h1, h2, n_segment + 1)[1:-1]\n",
    "\n",
    "h1 = node_elev_dict[2]\n",
    "h2 = node_elev_dict[3]\n",
    "n_segment = 5\n",
    "invert_elev = discretize_invert_elevations(h1, h2, n_segment)\n",
    "print(invert_elev)\n"
   ]
  },
  {
   "cell_type": "code",
   "execution_count": null,
   "metadata": {},
   "outputs": [],
   "source": [
    "def discretize_link(swmm, link_id, n_segment):\n",
    "    \"\"\"\n",
    "    Discretize link into N segments that preserve the original properties of the original link.\n",
    "\n",
    "    :param swmm: SWMM model object.\n",
    "    :param link_id: Link to discretize.\n",
    "    :n_segment: Number of segments to discretize link into.\n",
    "    \"\"\"\n",
    "    # Get upstream and downstream node IDs.\n",
    "    from_node_id, to_node_id = swmm.get_link_nodes(link_id)\n",
    "    \n",
    "    # Get coordinates of the nodes.\n",
    "    s1 = swmm.get_node_coordinates(from_node_id)\n",
    "    s2 = swmm.get_node_coordinates(to_node_id)\n",
    "\n",
    "    # Get discretized node coordinates.\n",
    "    Dnode_coords = node_positions(s1, s2, n_segment)\n",
    "\n",
    "    # Get invert elevations of from and to nodes.\n",
    "    h1 = swmm.get_node_invert_elevation(from_node_id)\n",
    "    h2 = swmm.get_node_invert_elevation(to_node_id)\n",
    "\n",
    "    # Invert elevations of discretized nodes.\n",
    "    Dnode_elev = discretize_invert_elevations(h1, h2, n_segment)\n",
    "\n",
    "    # Format new nodes.\n",
    "    #------------------------------------------------\n",
    "    # Get IDs of existing coordinate nodes.\n",
    "    exist_node_ids = swmm.get_component_names('COORDINATES')\n",
    "    exist_node_ids = [int(i) for i in exist_node_ids]\n",
    "    \n",
    "    # Create new discretized node ids.\n",
    "    Dnode_ids = [max(exist_node_ids) + i + 1 for i in range(len(Dnode_coords))]\n",
    "\n",
    "    # Set surcharge depth to 100 + maximum invert elevation.\n",
    "    max_elev = max(swmm.get_node_invert_elevation(int(nid)) for nid in exist_node_ids)\n",
    "    sur_depth = max_elev + 100\n",
    "\n",
    "    # Add new junctions.\n",
    "    for i in range(Dnode_coords.shape[0]):\n",
    "        coord_dict = {'Node': Dnode_ids[i], 'X-Coord': Dnode_coords[i,0], 'Y-Coord': Dnode_coords[i,1]}\n",
    "        file_utils.add_inp_row(swmm.inp_path, 'COORDINATES', coord_dict)\n",
    "\n",
    "        junction_dict = {'Name': Dnode_ids[i], 'Elevation': Dnode_elev[i], 'MaxDepth': 0, 'InitDepth': 0, 'SurDepth': sur_depth, 'Aponded': 0}\n",
    "        file_utils.add_inp_row(swmm.inp_path, 'JUNCTIONS', junction_dict)\n",
    "\n",
    "    # Format new conduits.\n",
    "    #------------------------------------------------\n",
    "    # Existing conduit parameters.\n",
    "    geom = swmm.get_link_geometry(link_id)\n",
    "    L = swmm.get_link_length(link_id)\n",
    "    roughness = swmm.get_link_roughness(link_id)\n",
    "\n",
    "    # New conduit segment length.\n",
    "    Lc = L / n_segment\n",
    "\n",
    "    # Remove the conduit from the inp file.\n",
    "    file_utils.remove_inp_row(swmm.inp_path, 'CONDUITS', link_id)\n",
    "    file_utils.remove_inp_row(swmm.inp_path, 'XSECTIONS', link_id)\n",
    "\n",
    "    # Existing conduit IDs.\n",
    "    # Get IDs of existing coordinate nodes.\n",
    "    exist_link_ids = swmm.get_component_names('CONDUITS')\n",
    "    exist_link_ids = [int(i) for i in exist_link_ids]\n",
    "    \n",
    "    # Create new discretized node ids.\n",
    "    c_ids = [str(max(exist_link_ids) + i + 1) for i in range(n_segment)]\n",
    "\n",
    "    # Set new CONDUITS AND XSECTIONS sections.\n",
    "    for i in range(n_segment):\n",
    "        # From and to nodes.\n",
    "        if i == 0:\n",
    "            from_node = from_node_id\n",
    "            to_node = Dnode_ids[i]\n",
    "        elif i == n_segment - 1:\n",
    "            from_node = Dnode_ids[i-1]\n",
    "            to_node = to_node_id\n",
    "        else:\n",
    "            from_node = Dnode_ids[i-1]\n",
    "            to_node = Dnode_ids[i]\n",
    "\n",
    "        xsection_dict = {'Link': c_ids[i], 'Shape': 'CIRCULAR', 'Geom1': geom[0], 'Geom2': geom[1], 'Geom3': geom[2], 'Geom4': geom[3], 'Barrels': 1, 'Culvert': ''}\n",
    "        conduits_dict = {'Name': c_ids[i], 'From Node': from_node, 'To Node': to_node, 'Length': Lc, 'Roughness': roughness, 'InOffset': 0, 'OutOffset': 0, 'InitFlow': 0, 'MaxFlow': 0}\n",
    "\n",
    "        file_utils.add_inp_row(swmm.inp_path, 'XSECTIONS', xsection_dict)\n",
    "        file_utils.add_inp_row(swmm.inp_path, 'CONDUITS', conduits_dict)\n"
   ]
  },
  {
   "cell_type": "code",
   "execution_count": 123,
   "metadata": {},
   "outputs": [
    {
     "name": "stdout",
     "output_type": "stream",
     "text": [
      "Simulation info\n",
      "Flow Units: CFS\n",
      "System Units: US\n",
      "Start Time: 2020-01-01 00:00:00\n",
      "Start Time: 2020-01-01 06:00:00\n",
      "Removed Line: 1                3                2                400        0.01       0          0          0          0         \n",
      "\n",
      "Removed Line: 1                CIRCULAR     1                0          0          0          1                    \n",
      "\n",
      "Removed Line: 2                1                2                400        0.01       0          0          0          0         \n",
      "\n",
      "Removed Line: 2                CIRCULAR     1                0          0          0          1                    \n",
      "\n",
      "Removed Line: 3                2                4                400        0.01       0          0          0          0         \n",
      "\n",
      "Removed Line: 3                CIRCULAR     1                0          0          0          1                    \n",
      "\n"
     ]
    }
   ],
   "source": [
    "# Conduit name to discretize.\n",
    "link_id = 2\n",
    "\n",
    "cfg_dir = Path(r'C:\\Users\\ay434\\Documents\\urbansurge\\analysis\\lab_system')\n",
    "cfg_fname = 'conduit_discretize_config.yml'\n",
    "cfg_path = cfg_dir / cfg_fname\n",
    "\n",
    "swmm = SWMM(cfg_path)\n",
    "swmm.configure_model()\n",
    "\n",
    "swmm.discretize_link(1, 10)\n",
    "swmm.discretize_link(2, 10)\n",
    "swmm.discretize_link(3, 10)"
   ]
  },
  {
   "cell_type": "code",
   "execution_count": null,
   "metadata": {},
   "outputs": [],
   "source": []
  }
 ],
 "metadata": {
  "kernelspec": {
   "display_name": "urbansurge-env",
   "language": "python",
   "name": "urbansurge-env"
  },
  "language_info": {
   "codemirror_mode": {
    "name": "ipython",
    "version": 3
   },
   "file_extension": ".py",
   "mimetype": "text/x-python",
   "name": "python",
   "nbconvert_exporter": "python",
   "pygments_lexer": "ipython3",
   "version": "3.9.5"
  }
 },
 "nbformat": 4,
 "nbformat_minor": 2
}
