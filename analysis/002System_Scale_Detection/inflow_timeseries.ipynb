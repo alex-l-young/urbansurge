{
 "cells": [
  {
   "cell_type": "markdown",
   "metadata": {},
   "source": [
    "# Time series of inflow to system."
   ]
  },
  {
   "cell_type": "code",
   "execution_count": 6,
   "metadata": {},
   "outputs": [],
   "source": [
    "# Library imports.\n",
    "from datetime import datetime, timedelta\n",
    "import matplotlib.pyplot as plt\n",
    "import numpy as np\n",
    "import pandas as pd\n",
    "from pathlib import Path"
   ]
  },
  {
   "cell_type": "code",
   "execution_count": null,
   "metadata": {},
   "outputs": [],
   "source": [
    "def impulse(a, L, dt):\n",
    "    b = np.pi / 2\n",
    "    t = np.arange(0, L, dt)\n",
    "    return a * np.cos(np.pi / L * t + b)**2, t\n",
    "\n",
    "P, t = impulse(3, 10, 0.1)\n",
    "\n",
    "plt.plot(t, P)\n",
    "plt.show()"
   ]
  },
  {
   "cell_type": "code",
   "execution_count": 10,
   "metadata": {},
   "outputs": [],
   "source": [
    "# Generate a long time series of pulses.\n",
    "dt = 1 # Seconds.\n",
    "T = 1 # Simulation length.\n",
    "T_sec = T * 86400 # T in seconds.\n",
    "t = np.arange(0, T_sec, dt)\n",
    "\n",
    "# Pulse parameters.\n",
    "#==========================\n",
    "# Number of pulses.\n",
    "n_pulse = 100\n",
    "\n",
    "# Magnitude bounds.\n",
    "a_bounds = (0.1, 5)\n",
    "\n",
    "# Impulse length bounds in seconds.\n",
    "L_bounds = (60, 60 * 30)\n",
    "\n",
    "# Distribution parameters for generating similar precipitation time series.\n",
    "# =================================\n",
    "# Standard deviation for magnitude.\n",
    "sig_a = 0.1\n",
    "\n",
    "# Standard deviation for impulse length. Seconds.\n",
    "sig_L = 60 * 2\n",
    "\n",
    "# Standard deviation for impulse start. Seconds.\n",
    "sig_imp = 60 * 5\n",
    "\n",
    "# Number of precipitation time series to generate.\n",
    "n_precip = 5\n",
    "\n",
    "# Precipitation array.\n",
    "#=====================================\n",
    "# Precipitation array.\n",
    "P = np.zeros((len(t), n_precip))\n",
    "\n",
    "for i in range(n_pulse):\n",
    "    # Sample a from uniform.\n",
    "    a = np.random.uniform(a_bounds[0], a_bounds[1])\n",
    "\n",
    "    # Sample start time from uniform.\n",
    "    impulse_start = np.random.choice(t, 1)[0]\n",
    "\n",
    "    # Impulse length.\n",
    "    L = np.random.uniform(L_bounds[0], L_bounds[1])\n",
    "\n",
    "    for j in range(n_precip):\n",
    "        # Sample individual precipitation time series from parameters.\n",
    "\n",
    "        # Magnitude. Ensure it is between bounds.\n",
    "        a_j = np.min([np.max([np.random.normal(a, sig_a), a_bounds[0]]), a_bounds[1]])\n",
    "\n",
    "        # Impulse start. Ensure it lies between 0 and max(t).\n",
    "        impulse_start_j = np.min([np.max([int(np.random.normal(impulse_start, sig_imp)), 0]), np.max(t)])\n",
    "\n",
    "        # Impulse length. Ensure it is between bounds.\n",
    "        L_j = np.min([np.max([np.random.normal(L, sig_L), L_bounds[0]]), L_bounds[1]])\n",
    "\n",
    "        # Generate impulse.\n",
    "        P_impulse, t_impulse = impulse(a_j, L_j, dt)\n",
    "\n",
    "        # Add to precipitation array at correct start point.\n",
    "        idx = np.arange(impulse_start_j, np.min([impulse_start_j + len(P_impulse), len(t)]))\n",
    "\n",
    "        P[idx,j] = P[idx,j] + P_impulse[:len(idx)]"
   ]
  },
  {
   "cell_type": "code",
   "execution_count": null,
   "metadata": {},
   "outputs": [],
   "source": [
    "# Plotting.\n",
    "plt.plot(t, P)\n",
    "plt.xlabel('Time (s)')\n",
    "plt.ylabel('Input')\n",
    "plt.show()\n"
   ]
  },
  {
   "cell_type": "code",
   "execution_count": null,
   "metadata": {},
   "outputs": [],
   "source": [
    "# Save as SWMM-readable .dat files.\n",
    "\n",
    "# Starting date time.\n",
    "start_dt = datetime.strptime('2020-01-01 00:00:00', '%Y-%m-%d %H:%M:%S')\n",
    "dts = [start_dt + timedelta(seconds=i * dt) for i in range(len(t))]\n",
    "\n",
    "# Date strings.\n",
    "dates = [datetime.strftime(d, '%d-%m-%Y') for d in dts]\n",
    "times = [datetime.strftime(d, '%H:%M:%S') for d in dts]\n",
    "\n",
    "# File path.\n",
    "file_dir = Path(r\"inflow_data\")\n",
    "\n",
    "# Loop through time series and save.\n",
    "for i in range(P.shape[1]):\n",
    "    # File name.\n",
    "    fname = f\"P_{i}.dat\"\n",
    "\n",
    "    # Format data into a data frame.\n",
    "    df = pd.DataFrame({'date': dates, 'time': times, 'P': P[:,i]})\n",
    "\n",
    "    print(df.dtypes)\n",
    "\n",
    "    # Save the dataframe as a dat file\n",
    "    df.to_csv(file_dir / fname, index=False, header=False, sep='\\t')"
   ]
  },
  {
   "cell_type": "code",
   "execution_count": null,
   "metadata": {},
   "outputs": [],
   "source": []
  }
 ],
 "metadata": {
  "kernelspec": {
   "display_name": "urbansurge-env",
   "language": "python",
   "name": "python3"
  },
  "language_info": {
   "codemirror_mode": {
    "name": "ipython",
    "version": 3
   },
   "file_extension": ".py",
   "mimetype": "text/x-python",
   "name": "python",
   "nbconvert_exporter": "python",
   "pygments_lexer": "ipython3",
   "version": "3.8.4"
  }
 },
 "nbformat": 4,
 "nbformat_minor": 2
}
