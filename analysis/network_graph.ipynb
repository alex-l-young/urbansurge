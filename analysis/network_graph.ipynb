{
 "cells": [
  {
   "cell_type": "markdown",
   "id": "f8477818",
   "metadata": {},
   "source": [
    "## Graph manipulations for EPA SWMM netowrk including creation of adjacency matrix."
   ]
  },
  {
   "cell_type": "code",
   "execution_count": 5,
   "id": "4b7cd10d",
   "metadata": {},
   "outputs": [],
   "source": [
    "# Library imports.\n",
    "import pandas as pd\n",
    "\n",
    "# Local imports.\n",
    "from urbansurge import swmm_model, analysis_tools, file_utils\n",
    "from urbansurge.sensing import sensor_utils"
   ]
  },
  {
   "cell_type": "code",
   "execution_count": 11,
   "id": "bacc9ed3",
   "metadata": {},
   "outputs": [],
   "source": [
    "# Model inp path.\n",
    "inp_path = r\"C:\\Users\\ay434\\Box\\Research\\NSF_SCC\\SWMM\\Lab_System\\lab_model.inp\"\n",
    "\n",
    "# Return conduit nodes.\n",
    "conduit_nodes = sensor_utils.conduit_nodes(inp_path)\n",
    "\n",
    "# Adjacency matrix.\n",
    "A, node_names = sensor_utils.adjacency_matrix(conduit_nodes, inp_path)\n",
    "Adf = pd.DataFrame(A, columns=[f'node_{i}' for i in node_names])\n",
    "# Adf.to_csv(r\"C:\\Users\\ay434\\Box\\Research\\NSF_SCC\\SWMM\\Lab_System\\Amatrix.csv\", index=False)"
   ]
  },
  {
   "cell_type": "code",
   "execution_count": null,
   "id": "cb696544",
   "metadata": {},
   "outputs": [],
   "source": []
  }
 ],
 "metadata": {
  "kernelspec": {
   "display_name": "urbansurge-env",
   "language": "python",
   "name": "urbansurge-env"
  },
  "language_info": {
   "codemirror_mode": {
    "name": "ipython",
    "version": 3
   },
   "file_extension": ".py",
   "mimetype": "text/x-python",
   "name": "python",
   "nbconvert_exporter": "python",
   "pygments_lexer": "ipython3",
   "version": "3.9.5"
  }
 },
 "nbformat": 4,
 "nbformat_minor": 5
}
